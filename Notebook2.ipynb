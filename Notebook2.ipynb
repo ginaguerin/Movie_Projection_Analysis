{
 "cells": [
  {
   "cell_type": "code",
   "execution_count": 313,
   "metadata": {},
   "outputs": [],
   "source": [
    "import sqlite3\n",
    "import pandas as pd"
   ]
  },
  {
   "cell_type": "code",
   "execution_count": 314,
   "metadata": {},
   "outputs": [],
   "source": [
    "Cinema = \"data/im.db\"\n",
    "Budget = \"data/tn.movie_budgets.csv\""
   ]
  },
  {
   "cell_type": "code",
   "execution_count": 315,
   "metadata": {},
   "outputs": [],
   "source": [
    "conn = sqlite3.connect(Cinema)\n",
    "cursor = conn.cursor()"
   ]
  },
  {
   "cell_type": "markdown",
   "metadata": {},
   "source": [
    "## Creating a Table from our SQL data ##"
   ]
  },
  {
   "cell_type": "code",
   "execution_count": null,
   "metadata": {},
   "outputs": [],
   "source": [
    "pd.read_sql(\"\"\"\n",
    "CREATE TABLE Movie_info AS\n",
    "SELECT mb.movie_id, mb.primary_title, mb.start_year, mb.genres, d.person_id, p.primary_name\n",
    "FROM movie_basics mb\n",
    "JOIN directors d ON mb.movie_id = d.movie_id\n",
    "JOIN persons p ON d.person_id = p.person_id\n",
    "ORDER BY start_year DESC\n",
    ";\n",
    "\"\"\"\n",
    "\n",
    ", conn)"
   ]
  },
  {
   "cell_type": "code",
   "execution_count": 316,
   "metadata": {
    "scrolled": true
   },
   "outputs": [
    {
     "data": {
      "text/html": [
       "<div>\n",
       "<style scoped>\n",
       "    .dataframe tbody tr th:only-of-type {\n",
       "        vertical-align: middle;\n",
       "    }\n",
       "\n",
       "    .dataframe tbody tr th {\n",
       "        vertical-align: top;\n",
       "    }\n",
       "\n",
       "    .dataframe thead th {\n",
       "        text-align: right;\n",
       "    }\n",
       "</style>\n",
       "<table border=\"1\" class=\"dataframe\">\n",
       "  <thead>\n",
       "    <tr style=\"text-align: right;\">\n",
       "      <th></th>\n",
       "      <th>movie_id</th>\n",
       "      <th>primary_title</th>\n",
       "      <th>start_year</th>\n",
       "      <th>genres</th>\n",
       "      <th>person_id</th>\n",
       "      <th>primary_name</th>\n",
       "    </tr>\n",
       "  </thead>\n",
       "  <tbody>\n",
       "    <tr>\n",
       "      <th>0</th>\n",
       "      <td>tt5174640</td>\n",
       "      <td>100 Years</td>\n",
       "      <td>2115</td>\n",
       "      <td>Drama</td>\n",
       "      <td>nm0001675</td>\n",
       "      <td>Robert Rodriguez</td>\n",
       "    </tr>\n",
       "    <tr>\n",
       "      <th>1</th>\n",
       "      <td>tt5637536</td>\n",
       "      <td>Avatar 5</td>\n",
       "      <td>2027</td>\n",
       "      <td>Action,Adventure,Fantasy</td>\n",
       "      <td>nm0000116</td>\n",
       "      <td>James Cameron</td>\n",
       "    </tr>\n",
       "    <tr>\n",
       "      <th>2</th>\n",
       "      <td>tt5637536</td>\n",
       "      <td>Avatar 5</td>\n",
       "      <td>2027</td>\n",
       "      <td>Action,Adventure,Fantasy</td>\n",
       "      <td>nm0000116</td>\n",
       "      <td>James Cameron</td>\n",
       "    </tr>\n",
       "    <tr>\n",
       "      <th>3</th>\n",
       "      <td>tt3095356</td>\n",
       "      <td>Avatar 4</td>\n",
       "      <td>2025</td>\n",
       "      <td>Action,Adventure,Fantasy</td>\n",
       "      <td>nm0000116</td>\n",
       "      <td>James Cameron</td>\n",
       "    </tr>\n",
       "    <tr>\n",
       "      <th>4</th>\n",
       "      <td>tt3095356</td>\n",
       "      <td>Avatar 4</td>\n",
       "      <td>2025</td>\n",
       "      <td>Action,Adventure,Fantasy</td>\n",
       "      <td>nm0000116</td>\n",
       "      <td>James Cameron</td>\n",
       "    </tr>\n",
       "    <tr>\n",
       "      <th>...</th>\n",
       "      <td>...</td>\n",
       "      <td>...</td>\n",
       "      <td>...</td>\n",
       "      <td>...</td>\n",
       "      <td>...</td>\n",
       "      <td>...</td>\n",
       "    </tr>\n",
       "    <tr>\n",
       "      <th>291166</th>\n",
       "      <td>tt9852508</td>\n",
       "      <td>Viyapath Bambara</td>\n",
       "      <td>2010</td>\n",
       "      <td>Drama</td>\n",
       "      <td>nm10510269</td>\n",
       "      <td>Prasad De Silva</td>\n",
       "    </tr>\n",
       "    <tr>\n",
       "      <th>291167</th>\n",
       "      <td>tt9875120</td>\n",
       "      <td>Frostbite</td>\n",
       "      <td>2010</td>\n",
       "      <td>Documentary</td>\n",
       "      <td>nm2901551</td>\n",
       "      <td>Jorge Requena Ramos</td>\n",
       "    </tr>\n",
       "    <tr>\n",
       "      <th>291168</th>\n",
       "      <td>tt9875242</td>\n",
       "      <td>15 Fotografii</td>\n",
       "      <td>2010</td>\n",
       "      <td>Drama</td>\n",
       "      <td>nm2437971</td>\n",
       "      <td>Franciszek Dzida</td>\n",
       "    </tr>\n",
       "    <tr>\n",
       "      <th>291169</th>\n",
       "      <td>tt9878374</td>\n",
       "      <td>Regi lagni comprensorio di stato</td>\n",
       "      <td>2010</td>\n",
       "      <td>Documentary</td>\n",
       "      <td>nm3462989</td>\n",
       "      <td>Loris Arduino</td>\n",
       "    </tr>\n",
       "    <tr>\n",
       "      <th>291170</th>\n",
       "      <td>tt9905932</td>\n",
       "      <td>Footloose in London: All the Best Sights of ou...</td>\n",
       "      <td>2010</td>\n",
       "      <td>None</td>\n",
       "      <td>nm1645815</td>\n",
       "      <td>David Rixon</td>\n",
       "    </tr>\n",
       "  </tbody>\n",
       "</table>\n",
       "<p>291171 rows × 6 columns</p>\n",
       "</div>"
      ],
      "text/plain": [
       "         movie_id                                      primary_title  \\\n",
       "0       tt5174640                                          100 Years   \n",
       "1       tt5637536                                           Avatar 5   \n",
       "2       tt5637536                                           Avatar 5   \n",
       "3       tt3095356                                           Avatar 4   \n",
       "4       tt3095356                                           Avatar 4   \n",
       "...           ...                                                ...   \n",
       "291166  tt9852508                                   Viyapath Bambara   \n",
       "291167  tt9875120                                          Frostbite   \n",
       "291168  tt9875242                                      15 Fotografii   \n",
       "291169  tt9878374                   Regi lagni comprensorio di stato   \n",
       "291170  tt9905932  Footloose in London: All the Best Sights of ou...   \n",
       "\n",
       "        start_year                    genres   person_id         primary_name  \n",
       "0             2115                     Drama   nm0001675     Robert Rodriguez  \n",
       "1             2027  Action,Adventure,Fantasy   nm0000116        James Cameron  \n",
       "2             2027  Action,Adventure,Fantasy   nm0000116        James Cameron  \n",
       "3             2025  Action,Adventure,Fantasy   nm0000116        James Cameron  \n",
       "4             2025  Action,Adventure,Fantasy   nm0000116        James Cameron  \n",
       "...            ...                       ...         ...                  ...  \n",
       "291166        2010                     Drama  nm10510269      Prasad De Silva  \n",
       "291167        2010               Documentary   nm2901551  Jorge Requena Ramos  \n",
       "291168        2010                     Drama   nm2437971     Franciszek Dzida  \n",
       "291169        2010               Documentary   nm3462989        Loris Arduino  \n",
       "291170        2010                      None   nm1645815          David Rixon  \n",
       "\n",
       "[291171 rows x 6 columns]"
      ]
     },
     "execution_count": 316,
     "metadata": {},
     "output_type": "execute_result"
    }
   ],
   "source": [
    "pd.read_sql(\"\"\"\n",
    "SELECT *\n",
    "FROM Movie_info\n",
    ";\n",
    "\"\"\"\n",
    ",conn)"
   ]
  },
  {
   "cell_type": "markdown",
   "metadata": {},
   "source": [
    "- Naming our connection"
   ]
  },
  {
   "cell_type": "code",
   "execution_count": 317,
   "metadata": {},
   "outputs": [],
   "source": [
    "Movie_Info = pd.read_sql_query(\"SELECT * FROM Movie_info\", conn)"
   ]
  },
  {
   "cell_type": "code",
   "execution_count": 318,
   "metadata": {},
   "outputs": [],
   "source": [
    "Movie_Budget = pd.read_csv(Budget)"
   ]
  },
  {
   "cell_type": "markdown",
   "metadata": {},
   "source": [
    "- Renaming the columns in our Movie_Info data."
   ]
  },
  {
   "cell_type": "code",
   "execution_count": 319,
   "metadata": {},
   "outputs": [],
   "source": [
    "Movie_Info.rename(columns={\"primary_title\": \"Title\", \"start_year\": \"Year\", \"primary_name\": \"Director\", \"genres\": \"Genre\"}, inplace = True)"
   ]
  },
  {
   "cell_type": "markdown",
   "metadata": {},
   "source": [
    "- Dropping columns that are no longer necessary."
   ]
  },
  {
   "cell_type": "code",
   "execution_count": 320,
   "metadata": {},
   "outputs": [],
   "source": [
    "Movie_Info.drop(columns = [\"movie_id\", \"person_id\"], inplace = True)"
   ]
  },
  {
   "cell_type": "markdown",
   "metadata": {},
   "source": [
    "- Dropping NULL values in the Genre column."
   ]
  },
  {
   "cell_type": "code",
   "execution_count": 321,
   "metadata": {},
   "outputs": [],
   "source": [
    "Movie_Info.dropna(subset=[\"Genre\"], inplace = True)"
   ]
  },
  {
   "cell_type": "markdown",
   "metadata": {},
   "source": [
    "- Consolidating genres by creating Primary_Genre column."
   ]
  },
  {
   "cell_type": "code",
   "execution_count": 323,
   "metadata": {},
   "outputs": [],
   "source": [
    "Movie_Info[\"Primary_Genre\"] = Movie_Info[\"Genre\"].apply(lambda x: \"Horror\" if \"Horror\" in x else (\"Drama\" if \"Drama\" in x else (\"Animation\" if \"Animation\" in x else ( \"Sci-Fi\" if \"Sci-Fi\" in x else (\"Action\" if \"Action\" in x else (\"Comedy\" if \"Comedy\" in x else (\"Documentary\" if \"Documentary\" in x else (\"Fantasy\" if \"Fantasy\" in x else \"\"))))))))"
   ]
  },
  {
   "cell_type": "markdown",
   "metadata": {},
   "source": [
    "- Dropping duplicates."
   ]
  },
  {
   "cell_type": "code",
   "execution_count": 325,
   "metadata": {
    "scrolled": true
   },
   "outputs": [],
   "source": [
    "Movie_Info.drop_duplicates(inplace = True)"
   ]
  },
  {
   "cell_type": "markdown",
   "metadata": {},
   "source": [
    "- Resetting index."
   ]
  },
  {
   "cell_type": "code",
   "execution_count": 326,
   "metadata": {},
   "outputs": [],
   "source": [
    "Movie_Info.reset_index(inplace = True, drop = True)"
   ]
  },
  {
   "cell_type": "markdown",
   "metadata": {},
   "source": [
    "- Renaming Columns in the Movie_Budget data to match our Movie_Info data and dropping the id column."
   ]
  },
  {
   "cell_type": "code",
   "execution_count": 328,
   "metadata": {},
   "outputs": [],
   "source": [
    "Movie_Budget.rename(columns={\"movie\": \"Title\", \"release_date\": \"Year\", \"production_budget\": \"Budget\", \"domestic_gross\": \"Dom_Gross\", \"worldwide_gross\": \"WW_Gross\"}, inplace = True)\n",
    "Movie_Budget.drop(columns = [\"id\"], inplace = True)"
   ]
  },
  {
   "cell_type": "markdown",
   "metadata": {},
   "source": [
    "- Sanity Check"
   ]
  },
  {
   "cell_type": "code",
   "execution_count": 329,
   "metadata": {},
   "outputs": [
    {
     "data": {
      "text/html": [
       "<div>\n",
       "<style scoped>\n",
       "    .dataframe tbody tr th:only-of-type {\n",
       "        vertical-align: middle;\n",
       "    }\n",
       "\n",
       "    .dataframe tbody tr th {\n",
       "        vertical-align: top;\n",
       "    }\n",
       "\n",
       "    .dataframe thead th {\n",
       "        text-align: right;\n",
       "    }\n",
       "</style>\n",
       "<table border=\"1\" class=\"dataframe\">\n",
       "  <thead>\n",
       "    <tr style=\"text-align: right;\">\n",
       "      <th></th>\n",
       "      <th>Year</th>\n",
       "      <th>Title</th>\n",
       "      <th>Budget</th>\n",
       "      <th>Dom_Gross</th>\n",
       "      <th>WW_Gross</th>\n",
       "    </tr>\n",
       "  </thead>\n",
       "  <tbody>\n",
       "    <tr>\n",
       "      <th>0</th>\n",
       "      <td>Dec 18, 2009</td>\n",
       "      <td>Avatar</td>\n",
       "      <td>$425,000,000</td>\n",
       "      <td>$760,507,625</td>\n",
       "      <td>$2,776,345,279</td>\n",
       "    </tr>\n",
       "    <tr>\n",
       "      <th>1</th>\n",
       "      <td>May 20, 2011</td>\n",
       "      <td>Pirates of the Caribbean: On Stranger Tides</td>\n",
       "      <td>$410,600,000</td>\n",
       "      <td>$241,063,875</td>\n",
       "      <td>$1,045,663,875</td>\n",
       "    </tr>\n",
       "    <tr>\n",
       "      <th>2</th>\n",
       "      <td>Jun 7, 2019</td>\n",
       "      <td>Dark Phoenix</td>\n",
       "      <td>$350,000,000</td>\n",
       "      <td>$42,762,350</td>\n",
       "      <td>$149,762,350</td>\n",
       "    </tr>\n",
       "    <tr>\n",
       "      <th>3</th>\n",
       "      <td>May 1, 2015</td>\n",
       "      <td>Avengers: Age of Ultron</td>\n",
       "      <td>$330,600,000</td>\n",
       "      <td>$459,005,868</td>\n",
       "      <td>$1,403,013,963</td>\n",
       "    </tr>\n",
       "    <tr>\n",
       "      <th>4</th>\n",
       "      <td>Dec 15, 2017</td>\n",
       "      <td>Star Wars Ep. VIII: The Last Jedi</td>\n",
       "      <td>$317,000,000</td>\n",
       "      <td>$620,181,382</td>\n",
       "      <td>$1,316,721,747</td>\n",
       "    </tr>\n",
       "  </tbody>\n",
       "</table>\n",
       "</div>"
      ],
      "text/plain": [
       "           Year                                        Title        Budget  \\\n",
       "0  Dec 18, 2009                                       Avatar  $425,000,000   \n",
       "1  May 20, 2011  Pirates of the Caribbean: On Stranger Tides  $410,600,000   \n",
       "2   Jun 7, 2019                                 Dark Phoenix  $350,000,000   \n",
       "3   May 1, 2015                      Avengers: Age of Ultron  $330,600,000   \n",
       "4  Dec 15, 2017            Star Wars Ep. VIII: The Last Jedi  $317,000,000   \n",
       "\n",
       "      Dom_Gross        WW_Gross  \n",
       "0  $760,507,625  $2,776,345,279  \n",
       "1  $241,063,875  $1,045,663,875  \n",
       "2   $42,762,350    $149,762,350  \n",
       "3  $459,005,868  $1,403,013,963  \n",
       "4  $620,181,382  $1,316,721,747  "
      ]
     },
     "execution_count": 329,
     "metadata": {},
     "output_type": "execute_result"
    }
   ],
   "source": [
    "Movie_Budget.head()"
   ]
  },
  {
   "cell_type": "markdown",
   "metadata": {},
   "source": [
    "- Converting the Year column from an object to datetime and filtering to show the year, in order to match our Movie_Info data."
   ]
  },
  {
   "cell_type": "code",
   "execution_count": 330,
   "metadata": {},
   "outputs": [],
   "source": [
    "Movie_Budget[\"Year\"] = pd.to_datetime(Movie_Budget['Year'])\n",
    "Movie_Budget[\"Year\"] = Movie_Budget[\"Year\"].dt.year"
   ]
  },
  {
   "cell_type": "markdown",
   "metadata": {},
   "source": [
    "- Now to merge both Data sets together."
   ]
  },
  {
   "cell_type": "code",
   "execution_count": 331,
   "metadata": {},
   "outputs": [
    {
     "data": {
      "text/html": [
       "<div>\n",
       "<style scoped>\n",
       "    .dataframe tbody tr th:only-of-type {\n",
       "        vertical-align: middle;\n",
       "    }\n",
       "\n",
       "    .dataframe tbody tr th {\n",
       "        vertical-align: top;\n",
       "    }\n",
       "\n",
       "    .dataframe thead th {\n",
       "        text-align: right;\n",
       "    }\n",
       "</style>\n",
       "<table border=\"1\" class=\"dataframe\">\n",
       "  <thead>\n",
       "    <tr style=\"text-align: right;\">\n",
       "      <th></th>\n",
       "      <th>Title</th>\n",
       "      <th>Year</th>\n",
       "      <th>Genre</th>\n",
       "      <th>Director</th>\n",
       "      <th>Primary_Genre</th>\n",
       "      <th>Budget</th>\n",
       "      <th>Dom_Gross</th>\n",
       "      <th>WW_Gross</th>\n",
       "    </tr>\n",
       "  </thead>\n",
       "  <tbody>\n",
       "    <tr>\n",
       "      <th>0</th>\n",
       "      <td>Call of the Wild</td>\n",
       "      <td>2020</td>\n",
       "      <td>Adventure,Animation,Family</td>\n",
       "      <td>Chris Sanders</td>\n",
       "      <td>Animation</td>\n",
       "      <td>$82,000,000</td>\n",
       "      <td>$0</td>\n",
       "      <td>$0</td>\n",
       "    </tr>\n",
       "    <tr>\n",
       "      <th>1</th>\n",
       "      <td>Alita: Battle Angel</td>\n",
       "      <td>2019</td>\n",
       "      <td>Action,Adventure,Sci-Fi</td>\n",
       "      <td>Robert Rodriguez</td>\n",
       "      <td>Sci-Fi</td>\n",
       "      <td>$170,000,000</td>\n",
       "      <td>$85,710,210</td>\n",
       "      <td>$402,976,036</td>\n",
       "    </tr>\n",
       "    <tr>\n",
       "      <th>2</th>\n",
       "      <td>Shazam!</td>\n",
       "      <td>2019</td>\n",
       "      <td>Action,Adventure,Comedy</td>\n",
       "      <td>David F. Sandberg</td>\n",
       "      <td>Action</td>\n",
       "      <td>$85,000,000</td>\n",
       "      <td>$139,606,856</td>\n",
       "      <td>$362,899,733</td>\n",
       "    </tr>\n",
       "    <tr>\n",
       "      <th>3</th>\n",
       "      <td>Pet Sematary</td>\n",
       "      <td>2019</td>\n",
       "      <td>Horror,Mystery,Thriller</td>\n",
       "      <td>Dennis Widmyer</td>\n",
       "      <td>Horror</td>\n",
       "      <td>$21,000,000</td>\n",
       "      <td>$54,724,696</td>\n",
       "      <td>$109,501,146</td>\n",
       "    </tr>\n",
       "    <tr>\n",
       "      <th>4</th>\n",
       "      <td>Pet Sematary</td>\n",
       "      <td>2019</td>\n",
       "      <td>Horror,Mystery,Thriller</td>\n",
       "      <td>Kevin Kölsch</td>\n",
       "      <td>Horror</td>\n",
       "      <td>$21,000,000</td>\n",
       "      <td>$54,724,696</td>\n",
       "      <td>$109,501,146</td>\n",
       "    </tr>\n",
       "  </tbody>\n",
       "</table>\n",
       "</div>"
      ],
      "text/plain": [
       "                 Title  Year                       Genre           Director  \\\n",
       "0     Call of the Wild  2020  Adventure,Animation,Family      Chris Sanders   \n",
       "1  Alita: Battle Angel  2019     Action,Adventure,Sci-Fi   Robert Rodriguez   \n",
       "2              Shazam!  2019     Action,Adventure,Comedy  David F. Sandberg   \n",
       "3         Pet Sematary  2019     Horror,Mystery,Thriller     Dennis Widmyer   \n",
       "4         Pet Sematary  2019     Horror,Mystery,Thriller       Kevin Kölsch   \n",
       "\n",
       "  Primary_Genre        Budget     Dom_Gross      WW_Gross  \n",
       "0     Animation   $82,000,000            $0            $0  \n",
       "1        Sci-Fi  $170,000,000   $85,710,210  $402,976,036  \n",
       "2        Action   $85,000,000  $139,606,856  $362,899,733  \n",
       "3        Horror   $21,000,000   $54,724,696  $109,501,146  \n",
       "4        Horror   $21,000,000   $54,724,696  $109,501,146  "
      ]
     },
     "execution_count": 331,
     "metadata": {},
     "output_type": "execute_result"
    }
   ],
   "source": [
    "df = pd.merge(Movie_Info, Movie_Budget, on = [\"Title\", \"Year\"])\n",
    "df.head()"
   ]
  },
  {
   "cell_type": "markdown",
   "metadata": {},
   "source": [
    "- Filtering to only show movies from the year 2010 - 2022"
   ]
  },
  {
   "cell_type": "code",
   "execution_count": 332,
   "metadata": {
    "scrolled": true
   },
   "outputs": [
    {
     "name": "stdout",
     "output_type": "stream",
     "text": [
      "<class 'pandas.core.frame.DataFrame'>\n",
      "Int64Index: 1695 entries, 0 to 1694\n",
      "Data columns (total 8 columns):\n",
      " #   Column         Non-Null Count  Dtype \n",
      "---  ------         --------------  ----- \n",
      " 0   Title          1695 non-null   object\n",
      " 1   Year           1695 non-null   int64 \n",
      " 2   Genre          1695 non-null   object\n",
      " 3   Director       1695 non-null   object\n",
      " 4   Primary_Genre  1695 non-null   object\n",
      " 5   Budget         1695 non-null   object\n",
      " 6   Dom_Gross      1695 non-null   object\n",
      " 7   WW_Gross       1695 non-null   object\n",
      "dtypes: int64(1), object(7)\n",
      "memory usage: 119.2+ KB\n"
     ]
    }
   ],
   "source": [
    "df = df[(df[\"Year\"] >= 2010) & (df[\"Year\"] <= 2022)]\n",
    "df.info()"
   ]
  },
  {
   "cell_type": "markdown",
   "metadata": {},
   "source": [
    "- Dropping $0 values in rows from columns Dom_Gross and WW_Gross"
   ]
  },
  {
   "cell_type": "code",
   "execution_count": 333,
   "metadata": {},
   "outputs": [],
   "source": [
    "df =df.drop(df[(df[\"Dom_Gross\"] == \"$0\") | (df[\"WW_Gross\"] == \"$0\")].index)"
   ]
  },
  {
   "cell_type": "markdown",
   "metadata": {},
   "source": [
    "-  Removing \"$\" \",\" symbols and converting Dom_Gross and WW_Gross into intergers"
   ]
  },
  {
   "cell_type": "code",
   "execution_count": 334,
   "metadata": {},
   "outputs": [],
   "source": [
    "df[\"Dom_Gross\"] = df[\"Dom_Gross\"].str.replace(\"$\",\"\")\n",
    "df[\"WW_Gross\"] = df[\"WW_Gross\"].str.replace(\"$\",\"\")\n",
    "df[\"Budget\"] = df[\"Budget\"].str.replace(\"$\",\"\")\n",
    "df[\"Dom_Gross\"] = df[\"Dom_Gross\"].str.replace(\",\",\"\")\n",
    "df[\"WW_Gross\"] = df[\"WW_Gross\"].str.replace(\",\",\"\")\n",
    "df[\"Budget\"] = df[\"Budget\"].str.replace(\",\",\"\")\n",
    "df[\"Dom_Gross\"] = df[\"Dom_Gross\"].astype(int)\n",
    "df[\"WW_Gross\"] = df[\"WW_Gross\"].astype(int)\n",
    "df[\"Budget\"] = df[\"Budget\"].astype(int)"
   ]
  },
  {
   "cell_type": "markdown",
   "metadata": {},
   "source": [
    "- Creating a Net_Profit column."
   ]
  },
  {
   "cell_type": "code",
   "execution_count": 335,
   "metadata": {
    "scrolled": true
   },
   "outputs": [
    {
     "data": {
      "text/html": [
       "<div>\n",
       "<style scoped>\n",
       "    .dataframe tbody tr th:only-of-type {\n",
       "        vertical-align: middle;\n",
       "    }\n",
       "\n",
       "    .dataframe tbody tr th {\n",
       "        vertical-align: top;\n",
       "    }\n",
       "\n",
       "    .dataframe thead th {\n",
       "        text-align: right;\n",
       "    }\n",
       "</style>\n",
       "<table border=\"1\" class=\"dataframe\">\n",
       "  <thead>\n",
       "    <tr style=\"text-align: right;\">\n",
       "      <th></th>\n",
       "      <th>Title</th>\n",
       "      <th>Year</th>\n",
       "      <th>Genre</th>\n",
       "      <th>Director</th>\n",
       "      <th>Primary_Genre</th>\n",
       "      <th>Budget</th>\n",
       "      <th>Dom_Gross</th>\n",
       "      <th>WW_Gross</th>\n",
       "      <th>Net_Profit</th>\n",
       "    </tr>\n",
       "  </thead>\n",
       "  <tbody>\n",
       "    <tr>\n",
       "      <th>1</th>\n",
       "      <td>Alita: Battle Angel</td>\n",
       "      <td>2019</td>\n",
       "      <td>Action,Adventure,Sci-Fi</td>\n",
       "      <td>Robert Rodriguez</td>\n",
       "      <td>Sci-Fi</td>\n",
       "      <td>170000000</td>\n",
       "      <td>85710210</td>\n",
       "      <td>402976036</td>\n",
       "      <td>232976036</td>\n",
       "    </tr>\n",
       "    <tr>\n",
       "      <th>2</th>\n",
       "      <td>Shazam!</td>\n",
       "      <td>2019</td>\n",
       "      <td>Action,Adventure,Comedy</td>\n",
       "      <td>David F. Sandberg</td>\n",
       "      <td>Action</td>\n",
       "      <td>85000000</td>\n",
       "      <td>139606856</td>\n",
       "      <td>362899733</td>\n",
       "      <td>277899733</td>\n",
       "    </tr>\n",
       "    <tr>\n",
       "      <th>3</th>\n",
       "      <td>Pet Sematary</td>\n",
       "      <td>2019</td>\n",
       "      <td>Horror,Mystery,Thriller</td>\n",
       "      <td>Dennis Widmyer</td>\n",
       "      <td>Horror</td>\n",
       "      <td>21000000</td>\n",
       "      <td>54724696</td>\n",
       "      <td>109501146</td>\n",
       "      <td>88501146</td>\n",
       "    </tr>\n",
       "    <tr>\n",
       "      <th>4</th>\n",
       "      <td>Pet Sematary</td>\n",
       "      <td>2019</td>\n",
       "      <td>Horror,Mystery,Thriller</td>\n",
       "      <td>Kevin Kölsch</td>\n",
       "      <td>Horror</td>\n",
       "      <td>21000000</td>\n",
       "      <td>54724696</td>\n",
       "      <td>109501146</td>\n",
       "      <td>88501146</td>\n",
       "    </tr>\n",
       "    <tr>\n",
       "      <th>5</th>\n",
       "      <td>UglyDolls</td>\n",
       "      <td>2019</td>\n",
       "      <td>Adventure,Animation,Comedy</td>\n",
       "      <td>Kelly Asbury</td>\n",
       "      <td>Animation</td>\n",
       "      <td>45000000</td>\n",
       "      <td>19894664</td>\n",
       "      <td>24644664</td>\n",
       "      <td>-20355336</td>\n",
       "    </tr>\n",
       "  </tbody>\n",
       "</table>\n",
       "</div>"
      ],
      "text/plain": [
       "                 Title  Year                       Genre           Director  \\\n",
       "1  Alita: Battle Angel  2019     Action,Adventure,Sci-Fi   Robert Rodriguez   \n",
       "2              Shazam!  2019     Action,Adventure,Comedy  David F. Sandberg   \n",
       "3         Pet Sematary  2019     Horror,Mystery,Thriller     Dennis Widmyer   \n",
       "4         Pet Sematary  2019     Horror,Mystery,Thriller       Kevin Kölsch   \n",
       "5            UglyDolls  2019  Adventure,Animation,Comedy       Kelly Asbury   \n",
       "\n",
       "  Primary_Genre     Budget  Dom_Gross   WW_Gross  Net_Profit  \n",
       "1        Sci-Fi  170000000   85710210  402976036   232976036  \n",
       "2        Action   85000000  139606856  362899733   277899733  \n",
       "3        Horror   21000000   54724696  109501146    88501146  \n",
       "4        Horror   21000000   54724696  109501146    88501146  \n",
       "5     Animation   45000000   19894664   24644664   -20355336  "
      ]
     },
     "execution_count": 335,
     "metadata": {},
     "output_type": "execute_result"
    }
   ],
   "source": [
    "df[\"Net_Profit\"] = df[\"WW_Gross\"] - df[\"Budget\"]\n",
    "df.head()"
   ]
  },
  {
   "cell_type": "markdown",
   "metadata": {},
   "source": [
    "- Creating a ROI column."
   ]
  },
  {
   "cell_type": "code",
   "execution_count": 375,
   "metadata": {},
   "outputs": [],
   "source": [
    "df[\"ROI\"] = round((df[\"Net_Profit\"] / df[\"Budget\"]) * 100, 2)"
   ]
  },
  {
   "cell_type": "markdown",
   "metadata": {},
   "source": [
    "- Making a new order of columns in order to be more ledgible."
   ]
  },
  {
   "cell_type": "code",
   "execution_count": 376,
   "metadata": {},
   "outputs": [],
   "source": [
    "new_order = [\"Year\", \"Title\", \"Director\", \"Primary_Genre\", \"Genre\", \"Budget\", \"Dom_Gross\", \"WW_Gross\", \"Net_Profit\", \"ROI\"]\n",
    "df = df[new_order]"
   ]
  },
  {
   "cell_type": "code",
   "execution_count": 377,
   "metadata": {},
   "outputs": [
    {
     "data": {
      "text/html": [
       "<div>\n",
       "<style scoped>\n",
       "    .dataframe tbody tr th:only-of-type {\n",
       "        vertical-align: middle;\n",
       "    }\n",
       "\n",
       "    .dataframe tbody tr th {\n",
       "        vertical-align: top;\n",
       "    }\n",
       "\n",
       "    .dataframe thead th {\n",
       "        text-align: right;\n",
       "    }\n",
       "</style>\n",
       "<table border=\"1\" class=\"dataframe\">\n",
       "  <thead>\n",
       "    <tr style=\"text-align: right;\">\n",
       "      <th></th>\n",
       "      <th>Year</th>\n",
       "      <th>Title</th>\n",
       "      <th>Director</th>\n",
       "      <th>Primary_Genre</th>\n",
       "      <th>Genre</th>\n",
       "      <th>Budget</th>\n",
       "      <th>Dom_Gross</th>\n",
       "      <th>WW_Gross</th>\n",
       "      <th>Net_Profit</th>\n",
       "      <th>ROI</th>\n",
       "    </tr>\n",
       "  </thead>\n",
       "  <tbody>\n",
       "    <tr>\n",
       "      <th>1</th>\n",
       "      <td>2019</td>\n",
       "      <td>Alita: Battle Angel</td>\n",
       "      <td>Robert Rodriguez</td>\n",
       "      <td>Sci-Fi</td>\n",
       "      <td>Action,Adventure,Sci-Fi</td>\n",
       "      <td>170000000</td>\n",
       "      <td>85710210</td>\n",
       "      <td>402976036</td>\n",
       "      <td>232976036</td>\n",
       "      <td>137.04</td>\n",
       "    </tr>\n",
       "    <tr>\n",
       "      <th>2</th>\n",
       "      <td>2019</td>\n",
       "      <td>Shazam!</td>\n",
       "      <td>David F. Sandberg</td>\n",
       "      <td>Action</td>\n",
       "      <td>Action,Adventure,Comedy</td>\n",
       "      <td>85000000</td>\n",
       "      <td>139606856</td>\n",
       "      <td>362899733</td>\n",
       "      <td>277899733</td>\n",
       "      <td>326.94</td>\n",
       "    </tr>\n",
       "    <tr>\n",
       "      <th>3</th>\n",
       "      <td>2019</td>\n",
       "      <td>Pet Sematary</td>\n",
       "      <td>Dennis Widmyer</td>\n",
       "      <td>Horror</td>\n",
       "      <td>Horror,Mystery,Thriller</td>\n",
       "      <td>21000000</td>\n",
       "      <td>54724696</td>\n",
       "      <td>109501146</td>\n",
       "      <td>88501146</td>\n",
       "      <td>421.43</td>\n",
       "    </tr>\n",
       "    <tr>\n",
       "      <th>4</th>\n",
       "      <td>2019</td>\n",
       "      <td>Pet Sematary</td>\n",
       "      <td>Kevin Kölsch</td>\n",
       "      <td>Horror</td>\n",
       "      <td>Horror,Mystery,Thriller</td>\n",
       "      <td>21000000</td>\n",
       "      <td>54724696</td>\n",
       "      <td>109501146</td>\n",
       "      <td>88501146</td>\n",
       "      <td>421.43</td>\n",
       "    </tr>\n",
       "    <tr>\n",
       "      <th>5</th>\n",
       "      <td>2019</td>\n",
       "      <td>UglyDolls</td>\n",
       "      <td>Kelly Asbury</td>\n",
       "      <td>Animation</td>\n",
       "      <td>Adventure,Animation,Comedy</td>\n",
       "      <td>45000000</td>\n",
       "      <td>19894664</td>\n",
       "      <td>24644664</td>\n",
       "      <td>-20355336</td>\n",
       "      <td>-45.23</td>\n",
       "    </tr>\n",
       "  </tbody>\n",
       "</table>\n",
       "</div>"
      ],
      "text/plain": [
       "   Year                Title           Director Primary_Genre  \\\n",
       "1  2019  Alita: Battle Angel   Robert Rodriguez        Sci-Fi   \n",
       "2  2019              Shazam!  David F. Sandberg        Action   \n",
       "3  2019         Pet Sematary     Dennis Widmyer        Horror   \n",
       "4  2019         Pet Sematary       Kevin Kölsch        Horror   \n",
       "5  2019            UglyDolls       Kelly Asbury     Animation   \n",
       "\n",
       "                        Genre     Budget  Dom_Gross   WW_Gross  Net_Profit  \\\n",
       "1     Action,Adventure,Sci-Fi  170000000   85710210  402976036   232976036   \n",
       "2     Action,Adventure,Comedy   85000000  139606856  362899733   277899733   \n",
       "3     Horror,Mystery,Thriller   21000000   54724696  109501146    88501146   \n",
       "4     Horror,Mystery,Thriller   21000000   54724696  109501146    88501146   \n",
       "5  Adventure,Animation,Comedy   45000000   19894664   24644664   -20355336   \n",
       "\n",
       "      ROI  \n",
       "1  137.04  \n",
       "2  326.94  \n",
       "3  421.43  \n",
       "4  421.43  \n",
       "5  -45.23  "
      ]
     },
     "execution_count": 377,
     "metadata": {},
     "output_type": "execute_result"
    }
   ],
   "source": [
    "df.head()"
   ]
  },
  {
   "cell_type": "markdown",
   "metadata": {},
   "source": [
    "# Graphs #"
   ]
  },
  {
   "cell_type": "code",
   "execution_count": 341,
   "metadata": {},
   "outputs": [],
   "source": [
    "import matplotlib.pyplot as plt"
   ]
  },
  {
   "cell_type": "markdown",
   "metadata": {},
   "source": [
    "- Median Net Profit of Primary Genres"
   ]
  },
  {
   "cell_type": "code",
   "execution_count": 344,
   "metadata": {},
   "outputs": [],
   "source": [
    "genre_net_profit = df.groupby(\"Primary_Genre\")[\"Net_Profit\"].median().sort_values(ascending = False).head(7)"
   ]
  },
  {
   "cell_type": "code",
   "execution_count": 345,
   "metadata": {
    "scrolled": true
   },
   "outputs": [
    {
     "data": {
      "image/png": "[encoded data removed]",
      "text/plain": [
       "<Figure size 432x288 with 1 Axes>"
      ]
     },
     "metadata": {
      "needs_background": "light"
     },
     "output_type": "display_data"
    }
   ],
   "source": [
    "genre_net_profit.plot(kind = \"bar\")\n",
    "plt.xlabel(\"Genre\")\n",
    "plt.ylabel(\"Net Profit\")\n",
    "plt.title(\"Median Net Profit\")\n",
    "plt.show()"
   ]
  },
  {
   "cell_type": "markdown",
   "metadata": {},
   "source": [
    "- Median Budget of Primary Genres"
   ]
  },
  {
   "cell_type": "code",
   "execution_count": 352,
   "metadata": {},
   "outputs": [],
   "source": [
    "genre_Budget = df.groupby(\"Primary_Genre\")[\"Budget\"].median().sort_values(ascending = False).head(7)"
   ]
  },
  {
   "cell_type": "code",
   "execution_count": 378,
   "metadata": {},
   "outputs": [
    {
     "data": {
      "image/png": "[encoded data removed]",
      "text/plain": [
       "<Figure size 432x288 with 1 Axes>"
      ]
     },
     "metadata": {
      "needs_background": "light"
     },
     "output_type": "display_data"
    }
   ],
   "source": [
    "genre_Budget.plot(kind = \"bar\")\n",
    "plt.xlabel(\"Genre\")\n",
    "plt.ylabel(\"Net Profit\")\n",
    "plt.title(\"Median Budget\")\n",
    "plt.show()"
   ]
  },
  {
   "cell_type": "markdown",
   "metadata": {},
   "source": [
    "- Primary Genres with Highest ROI"
   ]
  },
  {
   "cell_type": "code",
   "execution_count": 363,
   "metadata": {},
   "outputs": [],
   "source": [
    "top_genre_highest_roi = df.groupby('Primary_Genre')['ROI'].median().sort_values(ascending=False).head(7)"
   ]
  },
  {
   "cell_type": "code",
   "execution_count": 364,
   "metadata": {},
   "outputs": [
    {
     "data": {
      "image/png": "[encoded data removed]",
      "text/plain": [
       "<Figure size 432x288 with 1 Axes>"
      ]
     },
     "metadata": {
      "needs_background": "light"
     },
     "output_type": "display_data"
    }
   ],
   "source": [
    "plt.bar(top_genre_highest_roi.index, top_genre_highest_roi.values)\n",
    "plt.xlabel('Primary Genre')\n",
    "plt.ylabel('ROI')\n",
    "plt.title('Genres with Highest ROI')\n",
    "plt.xticks(rotation=45)\n",
    "plt.show()"
   ]
  },
  {
   "cell_type": "markdown",
   "metadata": {},
   "source": [
    "- Median ROI of Horror Movie Directors"
   ]
  },
  {
   "cell_type": "code",
   "execution_count": 365,
   "metadata": {},
   "outputs": [],
   "source": [
    "horror_movies = df[df[\"Primary_Genre\"] == \"Horror\"]\n",
    "director_mean_roi = horror_movies.groupby(\"Director\")[\"ROI\"].mean()\n",
    "sorted_directors = director_mean_roi.sort_values(ascending = False)\n",
    "top_5_highest_roi_directors = sorted_directors.head(5)"
   ]
  },
  {
   "cell_type": "code",
   "execution_count": 369,
   "metadata": {},
   "outputs": [
    {
     "data": {
      "image/png": "[encoded data removed]",
      "text/plain": [
       "<Figure size 432x288 with 1 Axes>"
      ]
     },
     "metadata": {
      "needs_background": "light"
     },
     "output_type": "display_data"
    }
   ],
   "source": [
    "plt.bar(top_5_highest_roi_directors.index, top_5_highest_roi_directors.values)\n",
    "plt.xlabel(\"Directors\")\n",
    "plt.ylabel(\"Mean ROI\")\n",
    "plt.title(\"Horror Directors ROI\")\n",
    "plt.xticks(rotation = 45)\n",
    "plt.show()"
   ]
  },
  {
   "cell_type": "markdown",
   "metadata": {},
   "source": [
    "- Median ROI of Animation Movie Directors"
   ]
  },
  {
   "cell_type": "code",
   "execution_count": 298,
   "metadata": {},
   "outputs": [],
   "source": [
    "animation_movies = df[df[\"Primary_Genre\"] == \"Animation\"]\n",
    "animation_director_mean_roi = animation_movies.groupby(\"Director\")[\"ROI\"].mean()\n",
    "sorted_animation_directors = animation_director_mean_roi.sort_values(ascending = False)\n",
    "top_5_highest_animation_roi_directors = sorted_animation_directors.head(5)"
   ]
  },
  {
   "cell_type": "code",
   "execution_count": 367,
   "metadata": {},
   "outputs": [
    {
     "data": {
      "image/png": "[encoded data removed]",
      "text/plain": [
       "<Figure size 432x288 with 1 Axes>"
      ]
     },
     "metadata": {
      "needs_background": "light"
     },
     "output_type": "display_data"
    }
   ],
   "source": [
    "plt.bar(top_5_highest_animation_roi_directors.index, top_5_highest_animation_roi_directors.values)\n",
    "plt.xlabel(\"Directors\")\n",
    "plt.ylabel(\"Mean ROI\")\n",
    "plt.title(\"Animation Directors ROI\")\n",
    "plt.xticks(rotation = 45)\n",
    "plt.show()"
   ]
  },
  {
   "cell_type": "code",
   "execution_count": 368,
   "metadata": {},
   "outputs": [],
   "source": [
    "from scipy.stats import linregress"
   ]
  },
  {
   "cell_type": "code",
   "execution_count": 219,
   "metadata": {},
   "outputs": [
    {
     "name": "stdout",
     "output_type": "stream",
     "text": [
      "Slope: 2.4133987821085015\n",
      "Intercept: -4712912.0309560895\n",
      "R-value: 0.6584656714363493\n",
      "P-value: 2.301226452449882e-188\n",
      "Standard Error: 0.07103390736586025\n"
     ]
    }
   ],
   "source": [
    "slope, intercept, r_value, p_value, std_err = linregress(df[\"Budget\"], df[\"Net_Profit\"])\n",
    "\n",
    "print(\"Slope:\", slope)\n",
    "print(\"Intercept:\", intercept)\n",
    "print(\"R-value:\", r_value)\n",
    "print(\"P-value:\", p_value)\n",
    "print(\"Standard Error:\", std_err)"
   ]
  },
  {
   "cell_type": "markdown",
   "metadata": {},
   "source": [
    "## Simple Linear Regression ##"
   ]
  },
  {
   "cell_type": "code",
   "execution_count": 51,
   "metadata": {},
   "outputs": [],
   "source": [
    "import seaborn as sns"
   ]
  },
  {
   "cell_type": "markdown",
   "metadata": {},
   "source": [
    "- Simple Linear Regression: Budget vs Net Profit"
   ]
  },
  {
   "cell_type": "code",
   "execution_count": 374,
   "metadata": {},
   "outputs": [
    {
     "data": {
      "image/png": "[encoded data removed]",
      "text/plain": [
       "<Figure size 432x288 with 1 Axes>"
      ]
     },
     "metadata": {
      "needs_background": "light"
     },
     "output_type": "display_data"
    }
   ],
   "source": [
    "sns.regplot(data = df, x = \"Budget\", y = \"Net_Profit\")\n",
    "plt.xlabel(\"Budget\")\n",
    "plt.ylabel(\"Net Profit\")\n",
    "plt.title(\"Budget vs Net Profit\")\n",
    "plt.show()"
   ]
  },
  {
   "cell_type": "markdown",
   "metadata": {},
   "source": [
    "- Simple Linear Regression: Net Profit vs Budget of Horror Movies"
   ]
  },
  {
   "cell_type": "code",
   "execution_count": 359,
   "metadata": {},
   "outputs": [],
   "source": [
    "horror_df = df[df['Primary_Genre'].str.contains('Horror')]"
   ]
  },
  {
   "cell_type": "code",
   "execution_count": 373,
   "metadata": {},
   "outputs": [
    {
     "data": {
      "image/png": "[encoded data removed]",
      "text/plain": [
       "<Figure size 432x288 with 1 Axes>"
      ]
     },
     "metadata": {
      "needs_background": "light"
     },
     "output_type": "display_data"
    }
   ],
   "source": [
    "sns.scatterplot(x='Budget', y='Net_Profit', data=horror_df)\n",
    "sns.regplot(x='Budget', y='Net_Profit', data=horror_df)\n",
    "plt.xlabel('Budget')\n",
    "plt.ylabel('Net Profit')\n",
    "plt.title(\"Horror Movies\")\n",
    "plt.show()"
   ]
  },
  {
   "cell_type": "markdown",
   "metadata": {},
   "source": [
    "- Simple Linear Regression: Net Profit vs Budget of Animation Movies"
   ]
  },
  {
   "cell_type": "code",
   "execution_count": 356,
   "metadata": {},
   "outputs": [],
   "source": [
    "animation_df = df[df['Primary_Genre'].str.contains('Animation')]"
   ]
  },
  {
   "cell_type": "code",
   "execution_count": 372,
   "metadata": {},
   "outputs": [
    {
     "data": {
      "image/png": "[encoded data removed]",
      "text/plain": [
       "<Figure size 432x288 with 1 Axes>"
      ]
     },
     "metadata": {
      "needs_background": "light"
     },
     "output_type": "display_data"
    }
   ],
   "source": [
    "sns.scatterplot(x='Budget', y='Net_Profit', data=animation_df)\n",
    "sns.regplot(x='Budget', y='Net_Profit', data=animation_df)\n",
    "plt.xlabel('Budget')\n",
    "plt.ylabel('Net Profit')\n",
    "plt.title('Animation Movies')\n",
    "plt.show()"
   ]
  },
  {
   "cell_type": "markdown",
   "metadata": {},
   "source": [
    "# Recommendations #"
   ]
  },
  {
   "cell_type": "code",
   "execution_count": null,
   "metadata": {},
   "outputs": [],
   "source": []
  }
 ],
 "metadata": {
  "kernelspec": {
   "display_name": "Python (learn-env)",
   "language": "python",
   "name": "learn-env"
  },
  "language_info": {
   "codemirror_mode": {
    "name": "ipython",
    "version": 3
   },
   "file_extension": ".py",
   "mimetype": "text/x-python",
   "name": "python",
   "nbconvert_exporter": "python",
   "pygments_lexer": "ipython3",
   "version": "3.8.5"
  }
 },
 "nbformat": 4,
 "nbformat_minor": 5
}
