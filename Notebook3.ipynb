{
 "cells": [
  {
   "cell_type": "markdown",
   "id": "bc6bd8a7",
   "metadata": {},
   "source": [
    "# Movie Studio Projection Analysis"
   ]
  },
  {
   "cell_type": "markdown",
   "id": "83aa7acf",
   "metadata": {},
   "source": [
    "<div style=\"text-align: left;\" style=\"border: 2px solid black;\">\n",
    "    <img src=\"https://media.istockphoto.com/id/461998989/photo/photo-of-an-old-movie-projector.jpg?s=612x612&w=0&k=20&c=U5q3IB106Zjcc5b0qDOQN1YZH4ktfaMTyVzwcuLuMfI=\" alt=\"Airplane in Storm\" width=\"600\" height=\"300\">\n",
    "</div>"
   ]
  },
  {
   "cell_type": "markdown",
   "id": "835aff98",
   "metadata": {},
   "source": [
    "## Overview"
   ]
  },
  {
   "cell_type": "markdown",
   "id": "1e605db5",
   "metadata": {},
   "source": [
    "We are studying the current movie industry in order to advise the company on the best way to open its new movie studio.  The primary factor in forming our recommendations is profitability for the studio, and we look at many variables that can help maximize returns.  Because the data used in our analysis comes from a variety of places, we select and combine the relevant pieces to provide a sound plan for launching the new studio."
   ]
  },
  {
   "cell_type": "markdown",
   "id": "2374da57",
   "metadata": {},
   "source": [
    "## Business Problem"
   ]
  },
  {
   "cell_type": "markdown",
   "id": "6f803049",
   "metadata": {},
   "source": [
    "We want to find a movie genre that returns a high profit while requiring a relatively low budget.  In addition, we will determine a director who fits well within this space.  \n",
    "\n",
    "Although the studio may be able to afford blockbusters down the road, we want to manage the risks of higher cost films at the beginning in order to successfully navigate entry into the business."
   ]
  },
  {
   "cell_type": "markdown",
   "id": "f5ed7df7",
   "metadata": {},
   "source": [
    "<div style=\"text-align: left;\" style=\"border: 2px solid black;\">\n",
    "    <img src=\"https://www.valleycentral.com/wp-content/uploads/sites/39/2022/09/movie-theater-popcorn.jpg?w=2560&h=1440&crop=1\" alt=\"Airplane in Storm\" width=\"600\" height=\"300\">\n",
    "</div>"
   ]
  },
  {
   "cell_type": "markdown",
   "id": "2e6a784c",
   "metadata": {},
   "source": [
    "##  Data Understanding"
   ]
  },
  {
   "cell_type": "markdown",
   "id": "1372998c",
   "metadata": {},
   "source": [
    "The data comes from multiple sources, including <a href=\"https://www.boxofficemojo.com/\">Box Office Mojo</a>, <a href=\"https://www.imdb.com/\">IMDB</a>, <a href=\"https://www.rottentomatoes.com/\">Rotten Tomatoes</a>, <a href=\"https://www.themoviedb.org/\">The Movie DB</a>, and <a href=\"https://www.the-numbers.com/\">The Numbers</a>.  Given these different data sets, we begin by reading them and deciding which data is relevant to the questions we seek to answer.  From there, we determine how we can join together the data sets to allow us to filter what we need.\n",
    "\n",
    "There are some limitations to the data because not all of the sources can be readily joined with each other.  Some of the information doesn't even include the titles of the movies that it is evaluating.  Furthermore, there are many more data points from some sources than there are in others, so we are not able to utilize as much information as we would like as a result of combining the larger data sets with the smaller ones.  That being said, our master data set still produces a solid number of observations that we can use."
   ]
  },
  {
   "cell_type": "code",
   "execution_count": 3,
   "metadata": {},
   "outputs": [],
   "source": [
    "import sqlite3\n",
    "import pandas as pd\n",
    "import numpy as np\n",
    "from scipy import stats"
   ]
  },
  {
   "cell_type": "markdown",
   "id": "b1b7d76a",
   "metadata": {},
   "source": [
    "### Movie Industry Data"
   ]
  },
  {
   "cell_type": "markdown",
   "id": "3b0d2152",
   "metadata": {},
   "source": [
    "After reading all of the data files provided, we identify the ones that we need for our analysis."
   ]
  },
  {
   "cell_type": "code",
   "execution_count": 1,
   "metadata": {},
   "outputs": [],
   "source": [
    "Cinema = \"Data/im.db\"\n",
    "Budget = \"Data/tn.movie_budgets.csv.gz\""
   ]
  },
  {
   "cell_type": "code",
   "execution_count": 5,
   "metadata": {},
   "outputs": [],
   "source": [
    "conn = sqlite3.connect(Cinema)\n",
    "cursor = conn.cursor()"
   ]
  },
  {
   "cell_type": "markdown",
   "metadata": {},
   "source": [
    "### Creating a Table from our SQL data"
   ]
  },
  {
   "cell_type": "markdown",
   "id": "efbb081b",
   "metadata": {},
   "source": [
    "We are creating a new table in the SQL database that includes the data we want to use from all of the other tables (persons, directors, movie_basics)."
   ]
  },
  {
   "cell_type": "code",
   "execution_count": 41,
   "id": "f6c7ba65",
   "metadata": {},
   "outputs": [],
   "source": [
    "cursor.execute('DROP TABLE IF EXISTS Movie_info');"
   ]
  },
  {
   "cell_type": "code",
   "execution_count": 44,
   "metadata": {},
   "outputs": [],
   "source": [
    "cursor.execute(\"\"\"\n",
    "CREATE TABLE Movie_info AS\n",
    "SELECT mb.movie_id, mb.primary_title, mb.start_year, mb.genres, d.person_id, p.primary_name\n",
    "FROM movie_basics mb\n",
    "JOIN directors d ON mb.movie_id = d.movie_id\n",
    "JOIN persons p ON d.person_id = p.person_id\n",
    "WHERE mb.movie_id IS NOT NULL\n",
    "    AND mb.primary_title IS NOT NULL\n",
    "    AND mb.start_year IS NOT NULL\n",
    "    AND mb.genres IS NOT NULL\n",
    "    AND d.person_id IS NOT NULL\n",
    "    AND p.primary_name IS NOT NULL\n",
    "ORDER BY start_year DESC\n",
    "\"\"\");"
   ]
  },
  {
   "cell_type": "code",
   "execution_count": 47,
   "metadata": {
    "scrolled": true
   },
   "outputs": [
    {
     "data": {
      "text/html": [
       "<div>\n",
       "<style scoped>\n",
       "    .dataframe tbody tr th:only-of-type {\n",
       "        vertical-align: middle;\n",
       "    }\n",
       "\n",
       "    .dataframe tbody tr th {\n",
       "        vertical-align: top;\n",
       "    }\n",
       "\n",
       "    .dataframe thead th {\n",
       "        text-align: right;\n",
       "    }\n",
       "</style>\n",
       "<table border=\"1\" class=\"dataframe\">\n",
       "  <thead>\n",
       "    <tr style=\"text-align: right;\">\n",
       "      <th></th>\n",
       "      <th>movie_id</th>\n",
       "      <th>primary_title</th>\n",
       "      <th>start_year</th>\n",
       "      <th>genres</th>\n",
       "      <th>person_id</th>\n",
       "      <th>primary_name</th>\n",
       "    </tr>\n",
       "  </thead>\n",
       "  <tbody>\n",
       "    <tr>\n",
       "      <th>0</th>\n",
       "      <td>tt5174640</td>\n",
       "      <td>100 Years</td>\n",
       "      <td>2115</td>\n",
       "      <td>Drama</td>\n",
       "      <td>nm0001675</td>\n",
       "      <td>Robert Rodriguez</td>\n",
       "    </tr>\n",
       "    <tr>\n",
       "      <th>1</th>\n",
       "      <td>tt5637536</td>\n",
       "      <td>Avatar 5</td>\n",
       "      <td>2027</td>\n",
       "      <td>Action,Adventure,Fantasy</td>\n",
       "      <td>nm0000116</td>\n",
       "      <td>James Cameron</td>\n",
       "    </tr>\n",
       "    <tr>\n",
       "      <th>2</th>\n",
       "      <td>tt5637536</td>\n",
       "      <td>Avatar 5</td>\n",
       "      <td>2027</td>\n",
       "      <td>Action,Adventure,Fantasy</td>\n",
       "      <td>nm0000116</td>\n",
       "      <td>James Cameron</td>\n",
       "    </tr>\n",
       "    <tr>\n",
       "      <th>3</th>\n",
       "      <td>tt3095356</td>\n",
       "      <td>Avatar 4</td>\n",
       "      <td>2025</td>\n",
       "      <td>Action,Adventure,Fantasy</td>\n",
       "      <td>nm0000116</td>\n",
       "      <td>James Cameron</td>\n",
       "    </tr>\n",
       "    <tr>\n",
       "      <th>4</th>\n",
       "      <td>tt3095356</td>\n",
       "      <td>Avatar 4</td>\n",
       "      <td>2025</td>\n",
       "      <td>Action,Adventure,Fantasy</td>\n",
       "      <td>nm0000116</td>\n",
       "      <td>James Cameron</td>\n",
       "    </tr>\n",
       "    <tr>\n",
       "      <th>...</th>\n",
       "      <td>...</td>\n",
       "      <td>...</td>\n",
       "      <td>...</td>\n",
       "      <td>...</td>\n",
       "      <td>...</td>\n",
       "      <td>...</td>\n",
       "    </tr>\n",
       "    <tr>\n",
       "      <th>284607</th>\n",
       "      <td>tt9851990</td>\n",
       "      <td>Tikiri Suwanda</td>\n",
       "      <td>2010</td>\n",
       "      <td>Drama,Family</td>\n",
       "      <td>nm10449498</td>\n",
       "      <td>Sunil Aruna Weerasiri</td>\n",
       "    </tr>\n",
       "    <tr>\n",
       "      <th>284608</th>\n",
       "      <td>tt9852508</td>\n",
       "      <td>Viyapath Bambara</td>\n",
       "      <td>2010</td>\n",
       "      <td>Drama</td>\n",
       "      <td>nm10510269</td>\n",
       "      <td>Prasad De Silva</td>\n",
       "    </tr>\n",
       "    <tr>\n",
       "      <th>284609</th>\n",
       "      <td>tt9875120</td>\n",
       "      <td>Frostbite</td>\n",
       "      <td>2010</td>\n",
       "      <td>Documentary</td>\n",
       "      <td>nm2901551</td>\n",
       "      <td>Jorge Requena Ramos</td>\n",
       "    </tr>\n",
       "    <tr>\n",
       "      <th>284610</th>\n",
       "      <td>tt9875242</td>\n",
       "      <td>15 Fotografii</td>\n",
       "      <td>2010</td>\n",
       "      <td>Drama</td>\n",
       "      <td>nm2437971</td>\n",
       "      <td>Franciszek Dzida</td>\n",
       "    </tr>\n",
       "    <tr>\n",
       "      <th>284611</th>\n",
       "      <td>tt9878374</td>\n",
       "      <td>Regi lagni comprensorio di stato</td>\n",
       "      <td>2010</td>\n",
       "      <td>Documentary</td>\n",
       "      <td>nm3462989</td>\n",
       "      <td>Loris Arduino</td>\n",
       "    </tr>\n",
       "  </tbody>\n",
       "</table>\n",
       "<p>284612 rows × 6 columns</p>\n",
       "</div>"
      ],
      "text/plain": [
       "         movie_id                     primary_title  start_year  \\\n",
       "0       tt5174640                         100 Years        2115   \n",
       "1       tt5637536                          Avatar 5        2027   \n",
       "2       tt5637536                          Avatar 5        2027   \n",
       "3       tt3095356                          Avatar 4        2025   \n",
       "4       tt3095356                          Avatar 4        2025   \n",
       "...           ...                               ...         ...   \n",
       "284607  tt9851990                    Tikiri Suwanda        2010   \n",
       "284608  tt9852508                  Viyapath Bambara        2010   \n",
       "284609  tt9875120                         Frostbite        2010   \n",
       "284610  tt9875242                     15 Fotografii        2010   \n",
       "284611  tt9878374  Regi lagni comprensorio di stato        2010   \n",
       "\n",
       "                          genres   person_id           primary_name  \n",
       "0                          Drama   nm0001675       Robert Rodriguez  \n",
       "1       Action,Adventure,Fantasy   nm0000116          James Cameron  \n",
       "2       Action,Adventure,Fantasy   nm0000116          James Cameron  \n",
       "3       Action,Adventure,Fantasy   nm0000116          James Cameron  \n",
       "4       Action,Adventure,Fantasy   nm0000116          James Cameron  \n",
       "...                          ...         ...                    ...  \n",
       "284607              Drama,Family  nm10449498  Sunil Aruna Weerasiri  \n",
       "284608                     Drama  nm10510269        Prasad De Silva  \n",
       "284609               Documentary   nm2901551    Jorge Requena Ramos  \n",
       "284610                     Drama   nm2437971       Franciszek Dzida  \n",
       "284611               Documentary   nm3462989          Loris Arduino  \n",
       "\n",
       "[284612 rows x 6 columns]"
      ]
     },
     "execution_count": 47,
     "metadata": {},
     "output_type": "execute_result"
    }
   ],
   "source": [
    "# Looking at new SQL table Movie_Info\n",
    "\n",
    "pd.read_sql(\"\"\"\n",
    "SELECT *\n",
    "FROM Movie_info\n",
    "\"\"\", conn)"
   ]
  },
  {
   "cell_type": "markdown",
   "metadata": {},
   "source": [
    "We are reading the new SQL table and the tn.movie_budgets.csv file as pandas DataFrames."
   ]
  },
  {
   "cell_type": "code",
   "execution_count": 48,
   "metadata": {},
   "outputs": [],
   "source": [
    "Movie_Info = pd.read_sql_query(\"SELECT * FROM Movie_info\", conn)"
   ]
  },
  {
   "cell_type": "code",
   "execution_count": 49,
   "metadata": {},
   "outputs": [],
   "source": [
    "Movie_Budget = pd.read_csv(Budget)"
   ]
  },
  {
   "cell_type": "markdown",
   "metadata": {},
   "source": [
    "## Data Cleaning and Preparation"
   ]
  },
  {
   "cell_type": "code",
   "execution_count": 10,
   "metadata": {},
   "outputs": [],
   "source": [
    "# Renaming columns in Movie_Info for consistency\n",
    "\n",
    "Movie_Info.rename(columns={\"primary_title\": \"Title\", \"start_year\": \"Year\", \"primary_name\": \"Director\", \"genres\": \"Genre\"}, inplace = True)"
   ]
  },
  {
   "cell_type": "code",
   "execution_count": 11,
   "metadata": {},
   "outputs": [],
   "source": [
    "#Dropping columns that are not necessary\n",
    "\n",
    "Movie_Info.drop(columns = [\"movie_id\", \"person_id\"], inplace = True)"
   ]
  },
  {
   "cell_type": "code",
   "execution_count": 12,
   "metadata": {},
   "outputs": [],
   "source": [
    "#Dropping NULL values in the Genre column\n",
    "\n",
    "Movie_Info.dropna(subset=[\"Genre\"], inplace = True)"
   ]
  },
  {
   "cell_type": "markdown",
   "metadata": {},
   "source": [
    "## Feature Engineering"
   ]
  },
  {
   "cell_type": "markdown",
   "id": "e430dac3",
   "metadata": {},
   "source": [
    "After determining the [top 6 grossing movie genres](https://www.statista.com/statistics/188658/movie-genres-in-north-america-by-box-office-revenue-since-1995/), we are grouping the applicable movies in our data into those categories."
   ]
  },
  {
   "cell_type": "code",
   "execution_count": 13,
   "metadata": {},
   "outputs": [],
   "source": [
    "# Consolidating multiple genre movies into Primary Genre groups and adding that column\n",
    "\n",
    "Movie_Info[\"Primary_Genre\"] = Movie_Info[\"Genre\"].apply(lambda x: \"Horror\" if \"Horror\" in x else (\"Drama\" if \"Drama\" in x else (\"Animation\" if \"Animation\" in x else ( \"Sci-Fi\" if \"Sci-Fi\" in x else (\"Action\" if \"Action\" in x else (\"Comedy\" if \"Comedy\" in x else (\"Documentary\" if \"Documentary\" in x else (\"Fantasy\" if \"Fantasy\" in x else \"\"))))))))"
   ]
  },
  {
   "cell_type": "code",
   "execution_count": 14,
   "id": "36444f0b",
   "metadata": {},
   "outputs": [
    {
     "data": {
      "text/html": [
       "<div>\n",
       "<style scoped>\n",
       "    .dataframe tbody tr th:only-of-type {\n",
       "        vertical-align: middle;\n",
       "    }\n",
       "\n",
       "    .dataframe tbody tr th {\n",
       "        vertical-align: top;\n",
       "    }\n",
       "\n",
       "    .dataframe thead th {\n",
       "        text-align: right;\n",
       "    }\n",
       "</style>\n",
       "<table border=\"1\" class=\"dataframe\">\n",
       "  <thead>\n",
       "    <tr style=\"text-align: right;\">\n",
       "      <th></th>\n",
       "      <th>Title</th>\n",
       "      <th>Year</th>\n",
       "      <th>Genre</th>\n",
       "      <th>Director</th>\n",
       "      <th>Primary_Genre</th>\n",
       "    </tr>\n",
       "  </thead>\n",
       "  <tbody>\n",
       "    <tr>\n",
       "      <th>0</th>\n",
       "      <td>100 Years</td>\n",
       "      <td>2115</td>\n",
       "      <td>Drama</td>\n",
       "      <td>Robert Rodriguez</td>\n",
       "      <td>Drama</td>\n",
       "    </tr>\n",
       "    <tr>\n",
       "      <th>1</th>\n",
       "      <td>Avatar 5</td>\n",
       "      <td>2027</td>\n",
       "      <td>Action,Adventure,Fantasy</td>\n",
       "      <td>James Cameron</td>\n",
       "      <td>Action</td>\n",
       "    </tr>\n",
       "    <tr>\n",
       "      <th>2</th>\n",
       "      <td>Avatar 5</td>\n",
       "      <td>2027</td>\n",
       "      <td>Action,Adventure,Fantasy</td>\n",
       "      <td>James Cameron</td>\n",
       "      <td>Action</td>\n",
       "    </tr>\n",
       "    <tr>\n",
       "      <th>3</th>\n",
       "      <td>Avatar 4</td>\n",
       "      <td>2025</td>\n",
       "      <td>Action,Adventure,Fantasy</td>\n",
       "      <td>James Cameron</td>\n",
       "      <td>Action</td>\n",
       "    </tr>\n",
       "    <tr>\n",
       "      <th>4</th>\n",
       "      <td>Avatar 4</td>\n",
       "      <td>2025</td>\n",
       "      <td>Action,Adventure,Fantasy</td>\n",
       "      <td>James Cameron</td>\n",
       "      <td>Action</td>\n",
       "    </tr>\n",
       "  </tbody>\n",
       "</table>\n",
       "</div>"
      ],
      "text/plain": [
       "       Title  Year                     Genre          Director Primary_Genre\n",
       "0  100 Years  2115                     Drama  Robert Rodriguez         Drama\n",
       "1   Avatar 5  2027  Action,Adventure,Fantasy     James Cameron        Action\n",
       "2   Avatar 5  2027  Action,Adventure,Fantasy     James Cameron        Action\n",
       "3   Avatar 4  2025  Action,Adventure,Fantasy     James Cameron        Action\n",
       "4   Avatar 4  2025  Action,Adventure,Fantasy     James Cameron        Action"
      ]
     },
     "execution_count": 14,
     "metadata": {},
     "output_type": "execute_result"
    }
   ],
   "source": [
    "#Sanity check\n",
    "\n",
    "Movie_Info.head()"
   ]
  },
  {
   "cell_type": "code",
   "execution_count": 15,
   "metadata": {
    "scrolled": true
   },
   "outputs": [],
   "source": [
    "# Dropping full duplicate entries\n",
    "\n",
    "Movie_Info.drop_duplicates(inplace = True)"
   ]
  },
  {
   "cell_type": "code",
   "execution_count": 16,
   "metadata": {},
   "outputs": [],
   "source": [
    "# Resetting the index\n",
    "\n",
    "Movie_Info.reset_index(inplace = True, drop = True)"
   ]
  },
  {
   "cell_type": "code",
   "execution_count": 17,
   "id": "c9bb19d8",
   "metadata": {},
   "outputs": [
    {
     "name": "stdout",
     "output_type": "stream",
     "text": [
      "<class 'pandas.core.frame.DataFrame'>\n",
      "RangeIndex: 159425 entries, 0 to 159424\n",
      "Data columns (total 5 columns):\n",
      " #   Column         Non-Null Count   Dtype \n",
      "---  ------         --------------   ----- \n",
      " 0   Title          159425 non-null  object\n",
      " 1   Year           159425 non-null  int64 \n",
      " 2   Genre          159425 non-null  object\n",
      " 3   Director       159425 non-null  object\n",
      " 4   Primary_Genre  159425 non-null  object\n",
      "dtypes: int64(1), object(4)\n",
      "memory usage: 6.1+ MB\n"
     ]
    }
   ],
   "source": [
    "# Final Movie_Info DataFrame\n",
    "\n",
    "Movie_Info.info()"
   ]
  },
  {
   "cell_type": "code",
   "execution_count": 18,
   "metadata": {},
   "outputs": [],
   "source": [
    "# Renaming columns in Movie_Budget to match those in Movie_Info\n",
    "# Dropping the id column\n",
    "\n",
    "Movie_Budget.rename(columns={\"movie\": \"Title\", \"release_date\": \"Year\", \"production_budget\": \"Budget\", \"domestic_gross\": \"Dom_Gross\", \"worldwide_gross\": \"WW_Gross\"}, inplace = True)\n",
    "Movie_Budget.drop(columns = [\"id\"], inplace = True)"
   ]
  },
  {
   "cell_type": "code",
   "execution_count": 20,
   "metadata": {},
   "outputs": [],
   "source": [
    "# Converting the Year column from an object to datetime and filtering to show the year, in order to match our Movie_Info data\n",
    "\n",
    "Movie_Budget[\"Year\"] = pd.to_datetime(Movie_Budget['Year'])\n",
    "Movie_Budget[\"Year\"] = Movie_Budget[\"Year\"].dt.year"
   ]
  },
  {
   "cell_type": "code",
   "execution_count": 21,
   "id": "e84c1c5c",
   "metadata": {},
   "outputs": [
    {
     "data": {
      "text/html": [
       "<div>\n",
       "<style scoped>\n",
       "    .dataframe tbody tr th:only-of-type {\n",
       "        vertical-align: middle;\n",
       "    }\n",
       "\n",
       "    .dataframe tbody tr th {\n",
       "        vertical-align: top;\n",
       "    }\n",
       "\n",
       "    .dataframe thead th {\n",
       "        text-align: right;\n",
       "    }\n",
       "</style>\n",
       "<table border=\"1\" class=\"dataframe\">\n",
       "  <thead>\n",
       "    <tr style=\"text-align: right;\">\n",
       "      <th></th>\n",
       "      <th>Year</th>\n",
       "      <th>Title</th>\n",
       "      <th>Budget</th>\n",
       "      <th>Dom_Gross</th>\n",
       "      <th>WW_Gross</th>\n",
       "    </tr>\n",
       "  </thead>\n",
       "  <tbody>\n",
       "    <tr>\n",
       "      <th>0</th>\n",
       "      <td>2009</td>\n",
       "      <td>Avatar</td>\n",
       "      <td>$425,000,000</td>\n",
       "      <td>$760,507,625</td>\n",
       "      <td>$2,776,345,279</td>\n",
       "    </tr>\n",
       "    <tr>\n",
       "      <th>1</th>\n",
       "      <td>2011</td>\n",
       "      <td>Pirates of the Caribbean: On Stranger Tides</td>\n",
       "      <td>$410,600,000</td>\n",
       "      <td>$241,063,875</td>\n",
       "      <td>$1,045,663,875</td>\n",
       "    </tr>\n",
       "    <tr>\n",
       "      <th>2</th>\n",
       "      <td>2019</td>\n",
       "      <td>Dark Phoenix</td>\n",
       "      <td>$350,000,000</td>\n",
       "      <td>$42,762,350</td>\n",
       "      <td>$149,762,350</td>\n",
       "    </tr>\n",
       "    <tr>\n",
       "      <th>3</th>\n",
       "      <td>2015</td>\n",
       "      <td>Avengers: Age of Ultron</td>\n",
       "      <td>$330,600,000</td>\n",
       "      <td>$459,005,868</td>\n",
       "      <td>$1,403,013,963</td>\n",
       "    </tr>\n",
       "    <tr>\n",
       "      <th>4</th>\n",
       "      <td>2017</td>\n",
       "      <td>Star Wars Ep. VIII: The Last Jedi</td>\n",
       "      <td>$317,000,000</td>\n",
       "      <td>$620,181,382</td>\n",
       "      <td>$1,316,721,747</td>\n",
       "    </tr>\n",
       "  </tbody>\n",
       "</table>\n",
       "</div>"
      ],
      "text/plain": [
       "   Year                                        Title        Budget  \\\n",
       "0  2009                                       Avatar  $425,000,000   \n",
       "1  2011  Pirates of the Caribbean: On Stranger Tides  $410,600,000   \n",
       "2  2019                                 Dark Phoenix  $350,000,000   \n",
       "3  2015                      Avengers: Age of Ultron  $330,600,000   \n",
       "4  2017            Star Wars Ep. VIII: The Last Jedi  $317,000,000   \n",
       "\n",
       "      Dom_Gross        WW_Gross  \n",
       "0  $760,507,625  $2,776,345,279  \n",
       "1  $241,063,875  $1,045,663,875  \n",
       "2   $42,762,350    $149,762,350  \n",
       "3  $459,005,868  $1,403,013,963  \n",
       "4  $620,181,382  $1,316,721,747  "
      ]
     },
     "execution_count": 21,
     "metadata": {},
     "output_type": "execute_result"
    }
   ],
   "source": [
    "# Sanity check\n",
    "\n",
    "Movie_Budget.head()"
   ]
  },
  {
   "cell_type": "code",
   "execution_count": 75,
   "metadata": {},
   "outputs": [
    {
     "data": {
      "text/html": [
       "<div>\n",
       "<style scoped>\n",
       "    .dataframe tbody tr th:only-of-type {\n",
       "        vertical-align: middle;\n",
       "    }\n",
       "\n",
       "    .dataframe tbody tr th {\n",
       "        vertical-align: top;\n",
       "    }\n",
       "\n",
       "    .dataframe thead th {\n",
       "        text-align: right;\n",
       "    }\n",
       "</style>\n",
       "<table border=\"1\" class=\"dataframe\">\n",
       "  <thead>\n",
       "    <tr style=\"text-align: right;\">\n",
       "      <th></th>\n",
       "      <th>Title</th>\n",
       "      <th>Year</th>\n",
       "      <th>Genre</th>\n",
       "      <th>Director</th>\n",
       "      <th>Primary_Genre</th>\n",
       "      <th>Budget</th>\n",
       "      <th>Dom_Gross</th>\n",
       "      <th>WW_Gross</th>\n",
       "    </tr>\n",
       "  </thead>\n",
       "  <tbody>\n",
       "    <tr>\n",
       "      <th>0</th>\n",
       "      <td>Call of the Wild</td>\n",
       "      <td>2020</td>\n",
       "      <td>Adventure,Animation,Family</td>\n",
       "      <td>Chris Sanders</td>\n",
       "      <td>Animation</td>\n",
       "      <td>$82,000,000</td>\n",
       "      <td>$0</td>\n",
       "      <td>$0</td>\n",
       "    </tr>\n",
       "    <tr>\n",
       "      <th>1</th>\n",
       "      <td>Alita: Battle Angel</td>\n",
       "      <td>2019</td>\n",
       "      <td>Action,Adventure,Sci-Fi</td>\n",
       "      <td>Robert Rodriguez</td>\n",
       "      <td>Sci-Fi</td>\n",
       "      <td>$170,000,000</td>\n",
       "      <td>$85,710,210</td>\n",
       "      <td>$402,976,036</td>\n",
       "    </tr>\n",
       "    <tr>\n",
       "      <th>2</th>\n",
       "      <td>Shazam!</td>\n",
       "      <td>2019</td>\n",
       "      <td>Action,Adventure,Comedy</td>\n",
       "      <td>David F. Sandberg</td>\n",
       "      <td>Action</td>\n",
       "      <td>$85,000,000</td>\n",
       "      <td>$139,606,856</td>\n",
       "      <td>$362,899,733</td>\n",
       "    </tr>\n",
       "    <tr>\n",
       "      <th>3</th>\n",
       "      <td>Pet Sematary</td>\n",
       "      <td>2019</td>\n",
       "      <td>Horror,Mystery,Thriller</td>\n",
       "      <td>Dennis Widmyer</td>\n",
       "      <td>Horror</td>\n",
       "      <td>$21,000,000</td>\n",
       "      <td>$54,724,696</td>\n",
       "      <td>$109,501,146</td>\n",
       "    </tr>\n",
       "    <tr>\n",
       "      <th>4</th>\n",
       "      <td>Pet Sematary</td>\n",
       "      <td>2019</td>\n",
       "      <td>Horror,Mystery,Thriller</td>\n",
       "      <td>Kevin Kölsch</td>\n",
       "      <td>Horror</td>\n",
       "      <td>$21,000,000</td>\n",
       "      <td>$54,724,696</td>\n",
       "      <td>$109,501,146</td>\n",
       "    </tr>\n",
       "  </tbody>\n",
       "</table>\n",
       "</div>"
      ],
      "text/plain": [
       "                 Title  Year                       Genre           Director  \\\n",
       "0     Call of the Wild  2020  Adventure,Animation,Family      Chris Sanders   \n",
       "1  Alita: Battle Angel  2019     Action,Adventure,Sci-Fi   Robert Rodriguez   \n",
       "2              Shazam!  2019     Action,Adventure,Comedy  David F. Sandberg   \n",
       "3         Pet Sematary  2019     Horror,Mystery,Thriller     Dennis Widmyer   \n",
       "4         Pet Sematary  2019     Horror,Mystery,Thriller       Kevin Kölsch   \n",
       "\n",
       "  Primary_Genre        Budget     Dom_Gross      WW_Gross  \n",
       "0     Animation   $82,000,000            $0            $0  \n",
       "1        Sci-Fi  $170,000,000   $85,710,210  $402,976,036  \n",
       "2        Action   $85,000,000  $139,606,856  $362,899,733  \n",
       "3        Horror   $21,000,000   $54,724,696  $109,501,146  \n",
       "4        Horror   $21,000,000   $54,724,696  $109,501,146  "
      ]
     },
     "execution_count": 75,
     "metadata": {},
     "output_type": "execute_result"
    }
   ],
   "source": [
    "# Merging Movie_Info and Movie_Budget together\n",
    "\n",
    "df = pd.merge(Movie_Info, Movie_Budget, on = [\"Title\", \"Year\"])\n",
    "df.head()"
   ]
  },
  {
   "cell_type": "code",
   "execution_count": 76,
   "metadata": {
    "scrolled": true
   },
   "outputs": [],
   "source": [
    "# Filtering to only show movies from the year 2010 - 2022\n",
    "\n",
    "df = df[(df[\"Year\"] >= 2010) & (df[\"Year\"] <= 2022)]"
   ]
  },
  {
   "cell_type": "code",
   "execution_count": 77,
   "metadata": {},
   "outputs": [
    {
     "name": "stdout",
     "output_type": "stream",
     "text": [
      "<class 'pandas.core.frame.DataFrame'>\n",
      "Int64Index: 1510 entries, 1 to 1693\n",
      "Data columns (total 8 columns):\n",
      " #   Column         Non-Null Count  Dtype \n",
      "---  ------         --------------  ----- \n",
      " 0   Title          1510 non-null   object\n",
      " 1   Year           1510 non-null   int64 \n",
      " 2   Genre          1510 non-null   object\n",
      " 3   Director       1510 non-null   object\n",
      " 4   Primary_Genre  1510 non-null   object\n",
      " 5   Budget         1510 non-null   object\n",
      " 6   Dom_Gross      1510 non-null   object\n",
      " 7   WW_Gross       1510 non-null   object\n",
      "dtypes: int64(1), object(7)\n",
      "memory usage: 106.2+ KB\n"
     ]
    }
   ],
   "source": [
    "# Dropping entries with zero revenue\n",
    "\n",
    "df =df.drop(df[(df[\"Dom_Gross\"] == \"$0\") | (df[\"WW_Gross\"] == \"$0\")].index)\n",
    "df.info()"
   ]
  },
  {
   "cell_type": "code",
   "execution_count": 79,
   "metadata": {},
   "outputs": [],
   "source": [
    "# Removing \"$\" and \",\" symbols and converting Dom_Gross and WW_Gross into intergers\n",
    "\n",
    "df[\"Dom_Gross\"] = df[\"Dom_Gross\"].str.replace(\"$\",\"\")\n",
    "df[\"WW_Gross\"] = df[\"WW_Gross\"].str.replace(\"$\",\"\")\n",
    "df[\"Budget\"] = df[\"Budget\"].str.replace(\"$\",\"\")\n",
    "df[\"Dom_Gross\"] = df[\"Dom_Gross\"].str.replace(\",\",\"\")\n",
    "df[\"WW_Gross\"] = df[\"WW_Gross\"].str.replace(\",\",\"\")\n",
    "df[\"Budget\"] = df[\"Budget\"].str.replace(\",\",\"\")\n",
    "df[\"Dom_Gross\"] = df[\"Dom_Gross\"].astype(int)\n",
    "df[\"WW_Gross\"] = df[\"WW_Gross\"].astype(int)\n",
    "df[\"Budget\"] = df[\"Budget\"].astype(int)"
   ]
  },
  {
   "cell_type": "code",
   "execution_count": 80,
   "metadata": {
    "scrolled": true
   },
   "outputs": [
    {
     "data": {
      "text/html": [
       "<div>\n",
       "<style scoped>\n",
       "    .dataframe tbody tr th:only-of-type {\n",
       "        vertical-align: middle;\n",
       "    }\n",
       "\n",
       "    .dataframe tbody tr th {\n",
       "        vertical-align: top;\n",
       "    }\n",
       "\n",
       "    .dataframe thead th {\n",
       "        text-align: right;\n",
       "    }\n",
       "</style>\n",
       "<table border=\"1\" class=\"dataframe\">\n",
       "  <thead>\n",
       "    <tr style=\"text-align: right;\">\n",
       "      <th></th>\n",
       "      <th>Title</th>\n",
       "      <th>Year</th>\n",
       "      <th>Genre</th>\n",
       "      <th>Director</th>\n",
       "      <th>Primary_Genre</th>\n",
       "      <th>Budget</th>\n",
       "      <th>Dom_Gross</th>\n",
       "      <th>WW_Gross</th>\n",
       "      <th>Net_Profit</th>\n",
       "    </tr>\n",
       "  </thead>\n",
       "  <tbody>\n",
       "    <tr>\n",
       "      <th>1</th>\n",
       "      <td>Alita: Battle Angel</td>\n",
       "      <td>2019</td>\n",
       "      <td>Action,Adventure,Sci-Fi</td>\n",
       "      <td>Robert Rodriguez</td>\n",
       "      <td>Sci-Fi</td>\n",
       "      <td>170000000</td>\n",
       "      <td>85710210</td>\n",
       "      <td>402976036</td>\n",
       "      <td>232976036</td>\n",
       "    </tr>\n",
       "    <tr>\n",
       "      <th>2</th>\n",
       "      <td>Shazam!</td>\n",
       "      <td>2019</td>\n",
       "      <td>Action,Adventure,Comedy</td>\n",
       "      <td>David F. Sandberg</td>\n",
       "      <td>Action</td>\n",
       "      <td>85000000</td>\n",
       "      <td>139606856</td>\n",
       "      <td>362899733</td>\n",
       "      <td>277899733</td>\n",
       "    </tr>\n",
       "    <tr>\n",
       "      <th>3</th>\n",
       "      <td>Pet Sematary</td>\n",
       "      <td>2019</td>\n",
       "      <td>Horror,Mystery,Thriller</td>\n",
       "      <td>Dennis Widmyer</td>\n",
       "      <td>Horror</td>\n",
       "      <td>21000000</td>\n",
       "      <td>54724696</td>\n",
       "      <td>109501146</td>\n",
       "      <td>88501146</td>\n",
       "    </tr>\n",
       "    <tr>\n",
       "      <th>4</th>\n",
       "      <td>Pet Sematary</td>\n",
       "      <td>2019</td>\n",
       "      <td>Horror,Mystery,Thriller</td>\n",
       "      <td>Kevin Kölsch</td>\n",
       "      <td>Horror</td>\n",
       "      <td>21000000</td>\n",
       "      <td>54724696</td>\n",
       "      <td>109501146</td>\n",
       "      <td>88501146</td>\n",
       "    </tr>\n",
       "    <tr>\n",
       "      <th>5</th>\n",
       "      <td>UglyDolls</td>\n",
       "      <td>2019</td>\n",
       "      <td>Adventure,Animation,Comedy</td>\n",
       "      <td>Kelly Asbury</td>\n",
       "      <td>Animation</td>\n",
       "      <td>45000000</td>\n",
       "      <td>19894664</td>\n",
       "      <td>24644664</td>\n",
       "      <td>-20355336</td>\n",
       "    </tr>\n",
       "  </tbody>\n",
       "</table>\n",
       "</div>"
      ],
      "text/plain": [
       "                 Title  Year                       Genre           Director  \\\n",
       "1  Alita: Battle Angel  2019     Action,Adventure,Sci-Fi   Robert Rodriguez   \n",
       "2              Shazam!  2019     Action,Adventure,Comedy  David F. Sandberg   \n",
       "3         Pet Sematary  2019     Horror,Mystery,Thriller     Dennis Widmyer   \n",
       "4         Pet Sematary  2019     Horror,Mystery,Thriller       Kevin Kölsch   \n",
       "5            UglyDolls  2019  Adventure,Animation,Comedy       Kelly Asbury   \n",
       "\n",
       "  Primary_Genre     Budget  Dom_Gross   WW_Gross  Net_Profit  \n",
       "1        Sci-Fi  170000000   85710210  402976036   232976036  \n",
       "2        Action   85000000  139606856  362899733   277899733  \n",
       "3        Horror   21000000   54724696  109501146    88501146  \n",
       "4        Horror   21000000   54724696  109501146    88501146  \n",
       "5     Animation   45000000   19894664   24644664   -20355336  "
      ]
     },
     "execution_count": 80,
     "metadata": {},
     "output_type": "execute_result"
    }
   ],
   "source": [
    "# Creating a Net_Profit column\n",
    "\n",
    "df[\"Net_Profit\"] = df[\"WW_Gross\"] - df[\"Budget\"]\n",
    "df.head()"
   ]
  },
  {
   "cell_type": "code",
   "execution_count": 81,
   "metadata": {},
   "outputs": [],
   "source": [
    "# Creating a Return on Investment (ROI) column\n",
    "\n",
    "df[\"ROI\"] = round((df[\"Net_Profit\"] / df[\"Budget\"]) * 100, 2)"
   ]
  },
  {
   "cell_type": "code",
   "execution_count": 82,
   "metadata": {},
   "outputs": [],
   "source": [
    "# Changing the column order to be more legible\n",
    "\n",
    "new_order = [\"Year\", \"Title\", \"Director\", \"Primary_Genre\", \"Genre\", \"Budget\", \"Dom_Gross\", \"WW_Gross\", \"Net_Profit\", \"ROI\"]\n",
    "df = df[new_order]"
   ]
  },
  {
   "cell_type": "code",
   "execution_count": 154,
   "metadata": {},
   "outputs": [
    {
     "data": {
      "text/html": [
       "<div>\n",
       "<style scoped>\n",
       "    .dataframe tbody tr th:only-of-type {\n",
       "        vertical-align: middle;\n",
       "    }\n",
       "\n",
       "    .dataframe tbody tr th {\n",
       "        vertical-align: top;\n",
       "    }\n",
       "\n",
       "    .dataframe thead th {\n",
       "        text-align: right;\n",
       "    }\n",
       "</style>\n",
       "<table border=\"1\" class=\"dataframe\">\n",
       "  <thead>\n",
       "    <tr style=\"text-align: right;\">\n",
       "      <th></th>\n",
       "      <th>Year</th>\n",
       "      <th>Title</th>\n",
       "      <th>Director</th>\n",
       "      <th>Primary_Genre</th>\n",
       "      <th>Genre</th>\n",
       "      <th>Budget</th>\n",
       "      <th>Dom_Gross</th>\n",
       "      <th>WW_Gross</th>\n",
       "      <th>Net_Profit</th>\n",
       "      <th>ROI</th>\n",
       "    </tr>\n",
       "  </thead>\n",
       "  <tbody>\n",
       "    <tr>\n",
       "      <th>1</th>\n",
       "      <td>2019</td>\n",
       "      <td>Alita: Battle Angel</td>\n",
       "      <td>Robert Rodriguez</td>\n",
       "      <td>Sci-Fi</td>\n",
       "      <td>Action,Adventure,Sci-Fi</td>\n",
       "      <td>170000000</td>\n",
       "      <td>85710210</td>\n",
       "      <td>402976036</td>\n",
       "      <td>232976036</td>\n",
       "      <td>137.04</td>\n",
       "    </tr>\n",
       "    <tr>\n",
       "      <th>2</th>\n",
       "      <td>2019</td>\n",
       "      <td>Shazam!</td>\n",
       "      <td>David F. Sandberg</td>\n",
       "      <td>Action</td>\n",
       "      <td>Action,Adventure,Comedy</td>\n",
       "      <td>85000000</td>\n",
       "      <td>139606856</td>\n",
       "      <td>362899733</td>\n",
       "      <td>277899733</td>\n",
       "      <td>326.94</td>\n",
       "    </tr>\n",
       "    <tr>\n",
       "      <th>3</th>\n",
       "      <td>2019</td>\n",
       "      <td>Pet Sematary</td>\n",
       "      <td>Dennis Widmyer</td>\n",
       "      <td>Horror</td>\n",
       "      <td>Horror,Mystery,Thriller</td>\n",
       "      <td>21000000</td>\n",
       "      <td>54724696</td>\n",
       "      <td>109501146</td>\n",
       "      <td>88501146</td>\n",
       "      <td>421.43</td>\n",
       "    </tr>\n",
       "    <tr>\n",
       "      <th>4</th>\n",
       "      <td>2019</td>\n",
       "      <td>Pet Sematary</td>\n",
       "      <td>Kevin Kölsch</td>\n",
       "      <td>Horror</td>\n",
       "      <td>Horror,Mystery,Thriller</td>\n",
       "      <td>21000000</td>\n",
       "      <td>54724696</td>\n",
       "      <td>109501146</td>\n",
       "      <td>88501146</td>\n",
       "      <td>421.43</td>\n",
       "    </tr>\n",
       "    <tr>\n",
       "      <th>5</th>\n",
       "      <td>2019</td>\n",
       "      <td>UglyDolls</td>\n",
       "      <td>Kelly Asbury</td>\n",
       "      <td>Animation</td>\n",
       "      <td>Adventure,Animation,Comedy</td>\n",
       "      <td>45000000</td>\n",
       "      <td>19894664</td>\n",
       "      <td>24644664</td>\n",
       "      <td>-20355336</td>\n",
       "      <td>-45.23</td>\n",
       "    </tr>\n",
       "  </tbody>\n",
       "</table>\n",
       "</div>"
      ],
      "text/plain": [
       "   Year                Title           Director Primary_Genre  \\\n",
       "1  2019  Alita: Battle Angel   Robert Rodriguez        Sci-Fi   \n",
       "2  2019              Shazam!  David F. Sandberg        Action   \n",
       "3  2019         Pet Sematary     Dennis Widmyer        Horror   \n",
       "4  2019         Pet Sematary       Kevin Kölsch        Horror   \n",
       "5  2019            UglyDolls       Kelly Asbury     Animation   \n",
       "\n",
       "                        Genre     Budget  Dom_Gross   WW_Gross  Net_Profit  \\\n",
       "1     Action,Adventure,Sci-Fi  170000000   85710210  402976036   232976036   \n",
       "2     Action,Adventure,Comedy   85000000  139606856  362899733   277899733   \n",
       "3     Horror,Mystery,Thriller   21000000   54724696  109501146    88501146   \n",
       "4     Horror,Mystery,Thriller   21000000   54724696  109501146    88501146   \n",
       "5  Adventure,Animation,Comedy   45000000   19894664   24644664   -20355336   \n",
       "\n",
       "      ROI  \n",
       "1  137.04  \n",
       "2  326.94  \n",
       "3  421.43  \n",
       "4  421.43  \n",
       "5  -45.23  "
      ]
     },
     "execution_count": 154,
     "metadata": {},
     "output_type": "execute_result"
    }
   ],
   "source": [
    "# Sanity check\n",
    "\n",
    "df.head()"
   ]
  },
  {
   "cell_type": "markdown",
   "metadata": {},
   "source": [
    "## Visual Analysis"
   ]
  },
  {
   "cell_type": "code",
   "execution_count": 84,
   "metadata": {},
   "outputs": [],
   "source": [
    "import matplotlib.pyplot as plt"
   ]
  },
  {
   "cell_type": "markdown",
   "metadata": {},
   "source": [
    "First, we focus on the different genres and compare the financial impacts each group has had.  We are looking to make movies with lower budgets, so the Comedy, Drama, and Horror genres stand out for that objective."
   ]
  },
  {
   "cell_type": "code",
   "execution_count": 85,
   "id": "1e4891ea",
   "metadata": {},
   "outputs": [],
   "source": [
    "# Median Budget of Primary Genres\n",
    "\n",
    "genre_Budget = df.groupby(\"Primary_Genre\")[\"Budget\"].median().sort_values(ascending = False).head(7)"
   ]
  },
  {
   "cell_type": "code",
   "execution_count": 86,
   "id": "68894f5c",
   "metadata": {},
   "outputs": [
    {
     "data": {
      "image/png": "[encoded data removed]",
      "text/plain": [
       "<Figure size 432x288 with 1 Axes>"
      ]
     },
     "metadata": {
      "needs_background": "light"
     },
     "output_type": "display_data"
    }
   ],
   "source": [
    "genre_Budget.plot(kind = \"bar\")\n",
    "plt.xlabel(\"Genre\")\n",
    "plt.ylabel(\"Budget ($)\")\n",
    "plt.title(\"Median Budget by Movie Genre\")\n",
    "plt.show()"
   ]
  },
  {
   "cell_type": "markdown",
   "id": "9fb288db",
   "metadata": {},
   "source": [
    "Next, we look at how much money has been earned from our genres.  Of the three with lower budgets, Horror has the highest median net profit."
   ]
  },
  {
   "cell_type": "code",
   "execution_count": 87,
   "metadata": {},
   "outputs": [],
   "source": [
    "# Median Net Profit of Primary Genres\n",
    "\n",
    "genre_net_profit = df.groupby(\"Primary_Genre\")[\"Net_Profit\"].median().sort_values(ascending = False).head(7)"
   ]
  },
  {
   "cell_type": "code",
   "execution_count": 88,
   "metadata": {
    "scrolled": true
   },
   "outputs": [
    {
     "data": {
      "image/png": "[encoded data removed]",
      "text/plain": [
       "<Figure size 432x288 with 1 Axes>"
      ]
     },
     "metadata": {
      "needs_background": "light"
     },
     "output_type": "display_data"
    }
   ],
   "source": [
    "genre_net_profit.plot(kind = \"bar\")\n",
    "plt.xlabel(\"Genre\")\n",
    "plt.ylabel(\"Net Profit ($)\")\n",
    "plt.title(\"Median Net Profit by Movie Genre\")\n",
    "plt.show()"
   ]
  },
  {
   "cell_type": "markdown",
   "metadata": {},
   "source": [
    "In the end, we want to know which genres are the best bets to provide the greatest return on the studio's investment.  Based on the data, making movies is not a bad investment overall, but the genre that leads the way with a 270% ROI is Horror."
   ]
  },
  {
   "cell_type": "code",
   "execution_count": 89,
   "metadata": {},
   "outputs": [],
   "source": [
    "# Median ROI of Primary Genres\n",
    "\n",
    "top_genre_highest_roi = df.groupby('Primary_Genre')['ROI'].median().sort_values(ascending=False).head(7)"
   ]
  },
  {
   "cell_type": "code",
   "execution_count": 90,
   "metadata": {},
   "outputs": [
    {
     "data": {
      "image/png": "[encoded data removed]",
      "text/plain": [
       "<Figure size 432x288 with 1 Axes>"
      ]
     },
     "metadata": {
      "needs_background": "light"
     },
     "output_type": "display_data"
    }
   ],
   "source": [
    "plt.bar(top_genre_highest_roi.index, top_genre_highest_roi.values)\n",
    "plt.xlabel('Primary Genre')\n",
    "plt.ylabel('ROI (%)')\n",
    "plt.title('Median ROI by Movie Genre')\n",
    "plt.xticks(rotation=45)\n",
    "plt.show()"
   ]
  },
  {
   "cell_type": "markdown",
   "id": "3ee04f13",
   "metadata": {},
   "source": [
    "## Hypothesis Testing"
   ]
  },
  {
   "cell_type": "markdown",
   "id": "d89b3a3b",
   "metadata": {},
   "source": [
    "We perform a one sample t-test in order to compare movies in the horror genre to our overall sample of movies.  \n",
    "\n",
    "Null hypothesis (H0): the return on investment (ROI) of horror movies is less than or equal to the ROI of all movies.  \n",
    "\n",
    "Alternative hypothesis (HA): the ROI for horror movies is significantly greater than the ROI of all movies.\n",
    "\n",
    "We define our $\\alpha$ to be $0.05$."
   ]
  },
  {
   "cell_type": "code",
   "execution_count": 45,
   "id": "6aa13714",
   "metadata": {},
   "outputs": [
    {
     "data": {
      "text/plain": [
       "153"
      ]
     },
     "execution_count": 45,
     "metadata": {},
     "output_type": "execute_result"
    }
   ],
   "source": [
    "# Create an array of the ROI values for horror movies\n",
    "\n",
    "roi_horror = np.array(df[df['Primary_Genre'] == 'Horror']['ROI'].tolist())\n",
    "len(roi_horror)"
   ]
  },
  {
   "cell_type": "code",
   "execution_count": 46,
   "id": "688c105d",
   "metadata": {},
   "outputs": [
    {
     "name": "stdout",
     "output_type": "stream",
     "text": [
      "Sample mean: 1274.9\n",
      "Sample std: 4821.6\n"
     ]
    }
   ],
   "source": [
    "# Mean and standard deviation of ROI for horror movies\n",
    "\n",
    "print(f'Sample mean: {np.mean(roi_horror):.1f}')\n",
    "print(f'Sample std: {np.std(roi_horror):.1f}')"
   ]
  },
  {
   "cell_type": "code",
   "execution_count": 47,
   "id": "e1d3875f",
   "metadata": {},
   "outputs": [
    {
     "data": {
      "text/plain": [
       "334.20543046357614"
      ]
     },
     "execution_count": 47,
     "metadata": {},
     "output_type": "execute_result"
    }
   ],
   "source": [
    "# Mean of ROI for the sample of all movies\n",
    "\n",
    "roi_mean_all = df['ROI'].mean()\n",
    "roi_mean_all"
   ]
  },
  {
   "cell_type": "code",
   "execution_count": 48,
   "id": "0616f2a0",
   "metadata": {},
   "outputs": [
    {
     "data": {
      "text/plain": [
       "Ttest_1sampResult(statistic=2.4054070460022157, pvalue=0.017356261439114777)"
      ]
     },
     "execution_count": 48,
     "metadata": {},
     "output_type": "execute_result"
    }
   ],
   "source": [
    "# Find the t-statistic and p-value for this test\n",
    "\n",
    "result = stats.ttest_1samp(roi_horror, roi_mean_all)\n",
    "t_stat, p_value = result\n",
    "result"
   ]
  },
  {
   "cell_type": "markdown",
   "id": "fa10a447",
   "metadata": {},
   "source": [
    "Because this is a one sided test and ttest_1samp assumes a two sided test, we divide the p-value by 2, and p-value/2 = .0087.  Since this is less than our $\\alpha$ of .05, we fail to reject our null hypothesis.  The ROI for horror movies is significantly greater than the ROI of all movies."
   ]
  },
  {
   "cell_type": "markdown",
   "id": "f8cbb7e3",
   "metadata": {},
   "source": [
    "## Further Visual Analysis"
   ]
  },
  {
   "cell_type": "markdown",
   "metadata": {},
   "source": [
    "With the information that we have learned about low budgets of horror movies, the very positive ROI of the Horror genre, and the t-test telling us that the greater ROI represents a significant difference, we turn our attention to the directors of horror movies."
   ]
  },
  {
   "cell_type": "code",
   "execution_count": 91,
   "metadata": {},
   "outputs": [],
   "source": [
    "horror_movies = df[df[\"Primary_Genre\"] == \"Horror\"]\n",
    "director_mean_roi = horror_movies.groupby(\"Director\")[\"ROI\"].mean()\n",
    "sorted_directors = director_mean_roi.sort_values(ascending = False)\n",
    "top_5_highest_roi_directors = sorted_directors.head(5)"
   ]
  },
  {
   "cell_type": "code",
   "execution_count": 92,
   "metadata": {},
   "outputs": [
    {
     "data": {
      "image/png": "[encoded data removed]",
      "text/plain": [
       "<Figure size 432x288 with 1 Axes>"
      ]
     },
     "metadata": {
      "needs_background": "light"
     },
     "output_type": "display_data"
    }
   ],
   "source": [
    "plt.bar(top_5_highest_roi_directors.index, top_5_highest_roi_directors.values)\n",
    "plt.xlabel(\"Directors\")\n",
    "plt.ylabel(\"Mean ROI (%)\")\n",
    "plt.title(\"Top 5 Horror Director by Average ROI\")\n",
    "plt.xticks(rotation = 30)\n",
    "plt.show()"
   ]
  },
  {
   "cell_type": "markdown",
   "metadata": {},
   "source": [
    "Although the studio would do well to keep the budget lower at the beginning, some success in the first year or two may provide an opportunity to expand into other movie genres.  With that in mind, we look for the most successful directors by ROI of animated movies.  The median ROI in the Animation genre was very close to that of Horror, but it came with a median budget about nine times as much."
   ]
  },
  {
   "cell_type": "code",
   "execution_count": 93,
   "metadata": {},
   "outputs": [],
   "source": [
    "animation_movies = df[df[\"Primary_Genre\"] == \"Animation\"]\n",
    "animation_director_mean_roi = animation_movies.groupby(\"Director\")[\"ROI\"].mean()\n",
    "sorted_animation_directors = animation_director_mean_roi.sort_values(ascending = False)\n",
    "top_5_highest_animation_roi_directors = sorted_animation_directors.head(5)"
   ]
  },
  {
   "cell_type": "code",
   "execution_count": 94,
   "metadata": {},
   "outputs": [
    {
     "data": {
      "image/png": "[encoded data removed]",
      "text/plain": [
       "<Figure size 432x288 with 1 Axes>"
      ]
     },
     "metadata": {
      "needs_background": "light"
     },
     "output_type": "display_data"
    }
   ],
   "source": [
    "plt.bar(top_5_highest_animation_roi_directors.index, top_5_highest_animation_roi_directors.values)\n",
    "plt.xlabel(\"Directors\")\n",
    "plt.ylabel(\"Mean ROI (%)\")\n",
    "plt.title(\"Top 5 Animation Director by Average ROI\")\n",
    "plt.xticks(rotation = 30)\n",
    "plt.show()"
   ]
  },
  {
   "cell_type": "markdown",
   "id": "e42bbc90",
   "metadata": {},
   "source": [
    "## Simple Linear Regression"
   ]
  },
  {
   "cell_type": "code",
   "execution_count": 97,
   "metadata": {},
   "outputs": [],
   "source": [
    "from scipy.stats import linregress\n",
    "import seaborn as sns"
   ]
  },
  {
   "cell_type": "markdown",
   "id": "592c9f43",
   "metadata": {},
   "source": [
    "- All Genres  \n",
    "\n",
    "First, we want to look at how movie budgets affect net profits for our entire data set.  Not surprisingly, the R-value of .658 shows some positive correlation between spending money on a movie and earning profits."
   ]
  },
  {
   "cell_type": "code",
   "execution_count": 96,
   "metadata": {},
   "outputs": [
    {
     "name": "stdout",
     "output_type": "stream",
     "text": [
      "Slope: 2.4133987821084992\n",
      "Intercept: -4712912.030955985\n",
      "R-value: 0.658465671436349\n",
      "P-value: 2.3012264524504058e-188\n",
      "Standard Error: 0.07103390736586021\n"
     ]
    }
   ],
   "source": [
    "# Simple Linear Regression for all movies\n",
    "\n",
    "slope, intercept, r_value, p_value, std_err = linregress(df[\"Budget\"], df[\"Net_Profit\"])\n",
    "\n",
    "print(\"Slope:\", slope)\n",
    "print(\"Intercept:\", intercept)\n",
    "print(\"R-value:\", r_value)\n",
    "print(\"P-value:\", p_value)\n",
    "print(\"Standard Error:\", std_err)"
   ]
  },
  {
   "cell_type": "markdown",
   "id": "fd951977",
   "metadata": {},
   "source": [
    "The plot shows quite a bit of variance in the data compared to the best fit line, especially as the budgets grow.  This indicates some risk/reward tradeoff in making a movie, and the lower the budget, the less risk of negative returns."
   ]
  },
  {
   "cell_type": "code",
   "execution_count": 155,
   "metadata": {},
   "outputs": [
    {
     "data": {
      "image/png": "[encoded data removed]",
      "text/plain": [
       "<Figure size 432x288 with 1 Axes>"
      ]
     },
     "metadata": {
      "needs_background": "light"
     },
     "output_type": "display_data"
    }
   ],
   "source": [
    "# Plotting the best fit line\n",
    "\n",
    "sns.scatterplot(x='Budget', y='Net_Profit', data=df)\n",
    "sns.regplot(data = df, x = \"Budget\", y = \"Net_Profit\")\n",
    "plt.xlabel(\"Budget\")\n",
    "plt.ylabel(\"Net Profit\")\n",
    "plt.title(\"Budget vs Net Profit for All Genres\")\n",
    "plt.show()"
   ]
  },
  {
   "cell_type": "markdown",
   "metadata": {},
   "source": [
    "- Horror Genre  \n",
    "\n",
    "Next, we determine the relationship between budget and net profit for movies in the horror genre.  The .376 R-value still indicates some positive correlation, but the budget for a horror flick is much less responsible for its profit margin than is the case for all genres."
   ]
  },
  {
   "cell_type": "code",
   "execution_count": 104,
   "metadata": {},
   "outputs": [
    {
     "name": "stdout",
     "output_type": "stream",
     "text": [
      "Slope: 1.1855540157476705\n",
      "Intercept: 40660806.49152143\n",
      "R-value: 0.3761132902569564\n",
      "P-value: 1.6576331662725388e-06\n",
      "Standard Error: 0.23768082933150786\n"
     ]
    }
   ],
   "source": [
    "# Simple Linear Regression for horror movies only\n",
    "\n",
    "horror_df = df[df['Primary_Genre'].str.contains('Horror')]\n",
    "\n",
    "slope, intercept, r_value, p_value, std_err = linregress(horror_df[\"Budget\"], horror_df[\"Net_Profit\"])\n",
    "\n",
    "print(\"Slope:\", slope)\n",
    "print(\"Intercept:\", intercept)\n",
    "print(\"R-value:\", r_value)\n",
    "print(\"P-value:\", p_value)\n",
    "print(\"Standard Error:\", std_err)"
   ]
  },
  {
   "cell_type": "markdown",
   "id": "20d6ebf4",
   "metadata": {},
   "source": [
    "More good news: the data points in the regression plot for horror movies show much less residual from the line than we see in the all genres plot.  While there may be less chance to hit on a blockbuster, the downside risk of seeing a horror movie flop is far lower.  Sticking to a low budget reduces that risk even further, which is a significant consideration as a start-up studio.  Plus, there are still plenty of examples of low budget films making a very nice profit."
   ]
  },
  {
   "cell_type": "code",
   "execution_count": 102,
   "metadata": {},
   "outputs": [
    {
     "data": {
      "image/png": "[encoded data removed]",
      "text/plain": [
       "<Figure size 432x288 with 1 Axes>"
      ]
     },
     "metadata": {
      "needs_background": "light"
     },
     "output_type": "display_data"
    }
   ],
   "source": [
    "# Plotting the best fit line\n",
    "\n",
    "sns.scatterplot(x='Budget', y='Net_Profit', data=horror_df)\n",
    "sns.regplot(x='Budget', y='Net_Profit', data=horror_df)\n",
    "plt.xlabel('Budget')\n",
    "plt.ylabel('Net Profit')\n",
    "plt.title(\"Budget vs Net Profit for Horror Movies\")\n",
    "plt.show()"
   ]
  },
  {
   "cell_type": "markdown",
   "metadata": {},
   "source": [
    "- Animation Genre  \n",
    "\n",
    "We also look at the same comparison for animated movies since we believe this can be a good second genre to incorporate in the future as a way to diversify the studio's offerings.  Animation requires a higher budget but has the second largest median ROI, not far behind Horror.  \n",
    "\n",
    "The R-value for Animation is very similar to Horror, which tells us that like Horror, net profit isn't as dependent on budget as other genres can be.  Therefore, once the studio is in position to ramp up its budget per movie, animated films are a great next step."
   ]
  },
  {
   "cell_type": "code",
   "execution_count": 105,
   "metadata": {},
   "outputs": [
    {
     "name": "stdout",
     "output_type": "stream",
     "text": [
      "Slope: 2.2529548750239456\n",
      "Intercept: 100548156.03643999\n",
      "R-value: 0.39470195348090864\n",
      "P-value: 1.2774930159712082e-06\n",
      "Standard Error: 0.44483726101433785\n"
     ]
    }
   ],
   "source": [
    "# Simple Linear Regression for animation movies only\n",
    "\n",
    "animation_df = df[df['Primary_Genre'].str.contains('Animation')]\n",
    "\n",
    "slope, intercept, r_value, p_value, std_err = linregress(animation_df[\"Budget\"], animation_df[\"Net_Profit\"])\n",
    "\n",
    "print(\"Slope:\", slope)\n",
    "print(\"Intercept:\", intercept)\n",
    "print(\"R-value:\", r_value)\n",
    "print(\"P-value:\", p_value)\n",
    "print(\"Standard Error:\", std_err)"
   ]
  },
  {
   "cell_type": "markdown",
   "id": "5862feb0",
   "metadata": {},
   "source": [
    "As discussed, the budgets get higher with animated films, but the plot shows that most of these movies turn some amount of profit.  So while there is more variabilty in predicting net profit from the budget than with horror movies, there isn't as large a negative risk like some other genres."
   ]
  },
  {
   "cell_type": "code",
   "execution_count": 106,
   "metadata": {
    "scrolled": true
   },
   "outputs": [
    {
     "data": {
      "image/png": "[encoded data removed]",
      "text/plain": [
       "<Figure size 432x288 with 1 Axes>"
      ]
     },
     "metadata": {
      "needs_background": "light"
     },
     "output_type": "display_data"
    }
   ],
   "source": [
    "sns.scatterplot(x='Budget', y='Net_Profit', data=animation_df)\n",
    "sns.regplot(x='Budget', y='Net_Profit', data=animation_df)\n",
    "plt.xlabel('Budget')\n",
    "plt.ylabel('Net Profit')\n",
    "plt.title('Budget vs Net Profit for Animation Movies')\n",
    "plt.show()"
   ]
  },
  {
   "cell_type": "markdown",
   "metadata": {},
   "source": [
    "### Breakdown "
   ]
  },
  {
   "cell_type": "markdown",
   "metadata": {},
   "source": [
    "With the analysis of the data showing the benefit of making horror movies, we take a look at some further details.  We want to add more detail to this recommendation."
   ]
  },
  {
   "cell_type": "code",
   "execution_count": 132,
   "metadata": {},
   "outputs": [
    {
     "data": {
      "text/plain": [
       "10000000.0"
      ]
     },
     "execution_count": 132,
     "metadata": {},
     "output_type": "execute_result"
    }
   ],
   "source": [
    "# Median budget of Horror movies\n",
    "\n",
    "horror_movie = df[df[\"Primary_Genre\"] == \"Horror\"]\n",
    "median_horror_budget = horror_movie[\"Budget\"].median()\n",
    "median_horror_budget"
   ]
  },
  {
   "cell_type": "code",
   "execution_count": 133,
   "metadata": {},
   "outputs": [
    {
     "data": {
      "text/plain": [
       "'$37,203,982.00'"
      ]
     },
     "execution_count": 133,
     "metadata": {},
     "output_type": "execute_result"
    }
   ],
   "source": [
    "# Median Net Profit of Horror movies\n",
    "\n",
    "median_horror_net = horror_movie[\"Net_Profit\"].median()\n",
    "f\"${median_horror_net:,.2f}\""
   ]
  },
  {
   "cell_type": "code",
   "execution_count": 134,
   "id": "c536b1c5",
   "metadata": {},
   "outputs": [
    {
     "data": {
      "text/plain": [
       "270.23"
      ]
     },
     "execution_count": 134,
     "metadata": {},
     "output_type": "execute_result"
    }
   ],
   "source": [
    "# Median ROI of Horror movies\n",
    "\n",
    "median_horror_roi = horror_movie[\"ROI\"].median()\n",
    "median_horror_roi"
   ]
  },
  {
   "cell_type": "markdown",
   "metadata": {},
   "source": [
    "What type of return on investment can be expected from a horror movie with a $10,000,000 budget?  The average ROI for such films in the data is 707%, and the middle 50% of ROI's fall between 307% and 924%.  Spending around $10 million on a horror movie indicates a great opportunity for a fantastic return!"
   ]
  },
  {
   "cell_type": "code",
   "execution_count": 145,
   "metadata": {},
   "outputs": [
    {
     "data": {
      "text/plain": [
       "count      16.000000\n",
       "mean      707.393750\n",
       "std       605.683351\n",
       "min       -11.100000\n",
       "25%       307.490000\n",
       "50%       557.875000\n",
       "75%       924.450000\n",
       "max      2449.010000\n",
       "Name: ROI, dtype: float64"
      ]
     },
     "execution_count": 145,
     "metadata": {},
     "output_type": "execute_result"
    }
   ],
   "source": [
    "horror_movie_budget = df[(df[\"Primary_Genre\"] == \"Horror\") & (df[\"Budget\"] == 10000000)]\n",
    "horror_movie_budget[\"ROI\"].describe()"
   ]
  },
  {
   "cell_type": "markdown",
   "metadata": {},
   "source": [
    "The median profit of the horror movies with budgets of $10,000,000 is a very solid $55.8 million."
   ]
  },
  {
   "cell_type": "code",
   "execution_count": 149,
   "metadata": {},
   "outputs": [
    {
     "data": {
      "text/plain": [
       "'$55,787,533.00'"
      ]
     },
     "execution_count": 149,
     "metadata": {},
     "output_type": "execute_result"
    }
   ],
   "source": [
    "median_horror_budget_net = horror_movie_budget[\"Net_Profit\"].median()\n",
    "f\"${median_horror_budget_net:,.2f}\"\n"
   ]
  },
  {
   "cell_type": "markdown",
   "metadata": {},
   "source": [
    "The director hired for an initial movie should have some experience in the genre but not be so popular that his or her salary can't fit within the lower budget.  Sorting by the ROI of horror movie directors' work, we find two who far outpace the rest, as well as others who have also had extremely successful movies.  \n",
    "\n",
    "Chris Lofing and Travis Cluff seem like outliers, so we have done some outside research involving them.  They have been nominated for awards at Indie Short Fest, as well as received other critical acclaim.  Given their popularity with audiences and critics, they both look like a pretty good match for our first project.  In addition, Lofing is a writer, producer, and director, which would be beneficial regarding costs."
   ]
  },
  {
   "cell_type": "code",
   "execution_count": 151,
   "metadata": {},
   "outputs": [
    {
     "data": {
      "text/plain": [
       "Director\n",
       "Chris Lofing          41556.47\n",
       "Travis Cluff          41556.47\n",
       "Tod Williams           5817.07\n",
       "William Brent Bell     5329.08\n",
       "Bradley Parker         4141.17\n",
       "Name: ROI, dtype: float64"
      ]
     },
     "execution_count": 151,
     "metadata": {},
     "output_type": "execute_result"
    }
   ],
   "source": [
    "horror_movie.groupby(\"Director\")[\"ROI\"].median().sort_values(ascending = False).head()"
   ]
  },
  {
   "cell_type": "code",
   "execution_count": 71,
   "metadata": {
    "scrolled": true
   },
   "outputs": [
    {
     "data": {
      "text/html": [
       "<div>\n",
       "<style scoped>\n",
       "    .dataframe tbody tr th:only-of-type {\n",
       "        vertical-align: middle;\n",
       "    }\n",
       "\n",
       "    .dataframe tbody tr th {\n",
       "        vertical-align: top;\n",
       "    }\n",
       "\n",
       "    .dataframe thead th {\n",
       "        text-align: right;\n",
       "    }\n",
       "</style>\n",
       "<table border=\"1\" class=\"dataframe\">\n",
       "  <thead>\n",
       "    <tr style=\"text-align: right;\">\n",
       "      <th></th>\n",
       "      <th>Year</th>\n",
       "      <th>Title</th>\n",
       "      <th>Director</th>\n",
       "      <th>Primary_Genre</th>\n",
       "      <th>Genre</th>\n",
       "      <th>Budget</th>\n",
       "      <th>Dom_Gross</th>\n",
       "      <th>WW_Gross</th>\n",
       "      <th>Net_Profit</th>\n",
       "      <th>ROI</th>\n",
       "    </tr>\n",
       "  </thead>\n",
       "  <tbody>\n",
       "    <tr>\n",
       "      <th>576</th>\n",
       "      <td>2015</td>\n",
       "      <td>The Gallows</td>\n",
       "      <td>Chris Lofing</td>\n",
       "      <td>Horror</td>\n",
       "      <td>Horror,Mystery,Thriller</td>\n",
       "      <td>100000</td>\n",
       "      <td>22764410</td>\n",
       "      <td>41656474</td>\n",
       "      <td>41556474</td>\n",
       "      <td>41556.47</td>\n",
       "    </tr>\n",
       "  </tbody>\n",
       "</table>\n",
       "</div>"
      ],
      "text/plain": [
       "     Year        Title      Director Primary_Genre                    Genre  \\\n",
       "576  2015  The Gallows  Chris Lofing        Horror  Horror,Mystery,Thriller   \n",
       "\n",
       "     Budget  Dom_Gross  WW_Gross  Net_Profit       ROI  \n",
       "576  100000   22764410  41656474    41556474  41556.47  "
      ]
     },
     "execution_count": 71,
     "metadata": {},
     "output_type": "execute_result"
    }
   ],
   "source": [
    "# Looking at Chris Lofing movies\n",
    "\n",
    "chris_lofing_movies = df[df[\"Director\"] == \"Chris Lofing\"]\n",
    "chris_lofing_movies"
   ]
  },
  {
   "cell_type": "code",
   "execution_count": 66,
   "metadata": {
    "scrolled": true
   },
   "outputs": [
    {
     "data": {
      "text/html": [
       "<div>\n",
       "<style scoped>\n",
       "    .dataframe tbody tr th:only-of-type {\n",
       "        vertical-align: middle;\n",
       "    }\n",
       "\n",
       "    .dataframe tbody tr th {\n",
       "        vertical-align: top;\n",
       "    }\n",
       "\n",
       "    .dataframe thead th {\n",
       "        text-align: right;\n",
       "    }\n",
       "</style>\n",
       "<table border=\"1\" class=\"dataframe\">\n",
       "  <thead>\n",
       "    <tr style=\"text-align: right;\">\n",
       "      <th></th>\n",
       "      <th>Year</th>\n",
       "      <th>Title</th>\n",
       "      <th>Director</th>\n",
       "      <th>Primary_Genre</th>\n",
       "      <th>Genre</th>\n",
       "      <th>Budget</th>\n",
       "      <th>Dom_Gross</th>\n",
       "      <th>WW_Gross</th>\n",
       "      <th>Net_Profit</th>\n",
       "      <th>ROI</th>\n",
       "    </tr>\n",
       "  </thead>\n",
       "  <tbody>\n",
       "    <tr>\n",
       "      <th>577</th>\n",
       "      <td>2015</td>\n",
       "      <td>The Gallows</td>\n",
       "      <td>Travis Cluff</td>\n",
       "      <td>Horror</td>\n",
       "      <td>Horror,Mystery,Thriller</td>\n",
       "      <td>100000</td>\n",
       "      <td>22764410</td>\n",
       "      <td>41656474</td>\n",
       "      <td>41556474</td>\n",
       "      <td>41556.47</td>\n",
       "    </tr>\n",
       "  </tbody>\n",
       "</table>\n",
       "</div>"
      ],
      "text/plain": [
       "     Year        Title      Director Primary_Genre                    Genre  \\\n",
       "577  2015  The Gallows  Travis Cluff        Horror  Horror,Mystery,Thriller   \n",
       "\n",
       "     Budget  Dom_Gross  WW_Gross  Net_Profit       ROI  \n",
       "577  100000   22764410  41656474    41556474  41556.47  "
      ]
     },
     "execution_count": 66,
     "metadata": {},
     "output_type": "execute_result"
    }
   ],
   "source": [
    "# Looking at Travis Cluff movies\n",
    "\n",
    "travis_cluff_movies = df[df[\"Director\"] == \"Travis Cluff\"]\n",
    "travis_cluff_movies"
   ]
  },
  {
   "cell_type": "markdown",
   "metadata": {},
   "source": [
    "Horror movie with a budget of $10,000,000 and the highest ROI:"
   ]
  },
  {
   "cell_type": "code",
   "execution_count": 73,
   "metadata": {},
   "outputs": [
    {
     "data": {
      "text/plain": [
       "Year                           2018\n",
       "Title                     Halloween\n",
       "Director         David Gordon Green\n",
       "Primary_Genre                Horror\n",
       "Genre               Horror,Thriller\n",
       "Budget                     10000000\n",
       "Dom_Gross                 159342015\n",
       "WW_Gross                  254900667\n",
       "Net_Profit                244900667\n",
       "ROI                         2449.01\n",
       "Name: 60, dtype: object"
      ]
     },
     "execution_count": 73,
     "metadata": {},
     "output_type": "execute_result"
    }
   ],
   "source": [
    "highest_roi_horror_movie = horror_movie_budget.sort_values(\"ROI\").iloc[-1]\n",
    "highest_roi_horror_movie"
   ]
  },
  {
   "cell_type": "markdown",
   "metadata": {},
   "source": [
    "Horror movie with a budget of $10,000,000 and the lowest ROI:"
   ]
  },
  {
   "cell_type": "code",
   "execution_count": 74,
   "metadata": {
    "scrolled": true
   },
   "outputs": [
    {
     "data": {
      "text/plain": [
       "Year                               2012\n",
       "Title                    The Collection\n",
       "Director                 Marcus Dunstan\n",
       "Primary_Genre                    Horror\n",
       "Genre            Action,Horror,Thriller\n",
       "Budget                         10000000\n",
       "Dom_Gross                       6810754\n",
       "WW_Gross                        8890094\n",
       "Net_Profit                     -1109906\n",
       "ROI                               -11.1\n",
       "Name: 1237, dtype: object"
      ]
     },
     "execution_count": 74,
     "metadata": {},
     "output_type": "execute_result"
    }
   ],
   "source": [
    "lowest_roi_horror_movie = horror_movie_budget.sort_values(\"ROI\").iloc[0]\n",
    "lowest_roi_horror_movie"
   ]
  },
  {
   "cell_type": "markdown",
   "metadata": {},
   "source": [
    "## Recommendations  \n",
    "\n",
    "- **Horror Movies**  \n",
    "As a start-up movie studio, the focus should be horror movies due to the major success that this genre has seen over the years.  A high return on investment is most likely going to come from horror films, as seen by its leading 270% ROI.\n",
    "\n",
    "- **$10 million budget**  \n",
    "Ramping up the studio should be done patiently and intelligently, and keeping the budget on the low end minimizes risk.  In the horror genre, however, the low budget is by no means a concession to low profits.  The 270% ROI in horror climbs even higher on the lower budget films, making a $10 million budget a great bet to return a profit.  \n",
    "\n",
    "- **Director Chris Lofing**\n",
    "The ideal director for the first project is Chris Lofing, who is also a talented writer and a producer.  His combination of skills, combined with his popular and critical success, make him an obvious target to lead the studio's first effort.  If Lofing is not available initially, there are a handful of other directors that have seen their horror movies bring in profits."
   ]
  },
  {
   "cell_type": "markdown",
   "id": "4071ce02",
   "metadata": {},
   "source": [
    "## Further Investigation  \n",
    "\n",
    "- **Marketing**  \n",
    "A marketing analysis is crucial to determine the most effective strategies to promote new films.  This includes using movie trailers, media advertising, and social media content.  \n",
    "\n",
    "- **Distribution**  \n",
    "The studio also needs to investigate the avenues available to distribute movie, especially as a new player in the industry.  Partnering with a larger production company could aid in reaching a wider audience.  \n",
    "\n",
    "- **Animation**  \n",
    "As the studio grows and finds success with lower budget movies, the next phase should include looking into producing animated movies.  They generally cost more to produce, but the expected ROI for that genre is very near what horror delivers, so spending more for animation can lead to even higher profits."
   ]
  },
  {
   "cell_type": "markdown",
   "id": "14f22fe2",
   "metadata": {},
   "source": []
  }
 ],
 "metadata": {
  "kernelspec": {
   "display_name": "learn-env",
   "language": "python",
   "name": "python3"
  },
  "language_info": {
   "codemirror_mode": {
    "name": "ipython",
    "version": 3
   },
   "file_extension": ".py",
   "mimetype": "text/x-python",
   "name": "python",
   "nbconvert_exporter": "python",
   "pygments_lexer": "ipython3",
   "version": "3.8.5"
  }
 },
 "nbformat": 4,
 "nbformat_minor": 5
}
